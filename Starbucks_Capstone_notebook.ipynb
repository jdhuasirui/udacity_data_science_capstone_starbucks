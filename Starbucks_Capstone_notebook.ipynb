{
 "cells": [
  {
   "cell_type": "markdown",
   "metadata": {},
   "source": [
    "# Starbucks Capstone Challenge\n",
    "\n",
    "### Introduction\n",
    "\n",
    "This data set contains simulated data that mimics customer behavior on the Starbucks rewards mobile app. Once every few days, Starbucks sends out an offer to users of the mobile app. An offer can be merely an advertisement for a drink or an actual offer such as a discount or BOGO (buy one get one free). Some users might not receive any offer during certain weeks. \n",
    "\n",
    "Not all users receive the same offer, and that is the challenge to solve with this data set.\n",
    "\n",
    "Your task is to combine transaction, demographic and offer data to determine which demographic groups respond best to which offer type. This data set is a simplified version of the real Starbucks app because the underlying simulator only has one product whereas Starbucks actually sells dozens of products.\n",
    "\n",
    "Every offer has a validity period before the offer expires. As an example, a BOGO offer might be valid for only 5 days. You'll see in the data set that informational offers have a validity period even though these ads are merely providing information about a product; for example, if an informational offer has 7 days of validity, you can assume the customer is feeling the influence of the offer for 7 days after receiving the advertisement.\n",
    "\n",
    "You'll be given transactional data showing user purchases made on the app including the timestamp of purchase and the amount of money spent on a purchase. This transactional data also has a record for each offer that a user receives as well as a record for when a user actually views the offer. There are also records for when a user completes an offer. \n",
    "\n",
    "Keep in mind as well that someone using the app might make a purchase through the app without having received an offer or seen an offer.\n",
    "\n",
    "### Example\n",
    "\n",
    "To give an example, a user could receive a discount offer buy 10 dollars get 2 off on Monday. The offer is valid for 10 days from receipt. If the customer accumulates at least 10 dollars in purchases during the validity period, the customer completes the offer.\n",
    "\n",
    "However, there are a few things to watch out for in this data set. Customers do not opt into the offers that they receive; in other words, a user can receive an offer, never actually view the offer, and still complete the offer. For example, a user might receive the \"buy 10 dollars get 2 dollars off offer\", but the user never opens the offer during the 10 day validity period. The customer spends 15 dollars during those ten days. There will be an offer completion record in the data set; however, the customer was not influenced by the offer because the customer never viewed the offer.\n",
    "\n",
    "### Cleaning\n",
    "\n",
    "This makes data cleaning especially important and tricky.\n",
    "\n",
    "You'll also want to take into account that some demographic groups will make purchases even if they don't receive an offer. From a business perspective, if a customer is going to make a 10 dollar purchase without an offer anyway, you wouldn't want to send a buy 10 dollars get 2 dollars off offer. You'll want to try to assess what a certain demographic group will buy when not receiving any offers.\n",
    "\n",
    "### Final Advice\n",
    "\n",
    "Because this is a capstone project, you are free to analyze the data any way you see fit. For example, you could build a machine learning model that predicts how much someone will spend based on demographics and offer type. Or you could build a model that predicts whether or not someone will respond to an offer. Or, you don't need to build a machine learning model at all. You could develop a set of heuristics that determine what offer you should send to each customer (i.e., 75 percent of women customers who were 35 years old responded to offer A vs 40 percent from the same demographic to offer B, so send offer A)."
   ]
  },
  {
   "cell_type": "markdown",
   "metadata": {},
   "source": [
    "# Data Sets\n",
    "\n",
    "The data is contained in three files:\n",
    "\n",
    "* portfolio.json - containing offer ids and meta data about each offer (duration, type, etc.)\n",
    "* profile.json - demographic data for each customer\n",
    "* transcript.json - records for transactions, offers received, offers viewed, and offers completed\n",
    "\n",
    "Here is the schema and explanation of each variable in the files:\n",
    "\n",
    "**portfolio.json**\n",
    "* id (string) - offer id\n",
    "* offer_type (string) - type of offer ie BOGO, discount, informational\n",
    "* difficulty (int) - minimum required spend to complete an offer\n",
    "* reward (int) - reward given for completing an offer\n",
    "* duration (int) - time for offer to be open, in days\n",
    "* channels (list of strings)\n",
    "\n",
    "**profile.json**\n",
    "* age (int) - age of the customer \n",
    "* became_member_on (int) - date when customer created an app account\n",
    "* gender (str) - gender of the customer (note some entries contain 'O' for other rather than M or F)\n",
    "* id (str) - customer id\n",
    "* income (float) - customer's income\n",
    "\n",
    "**transcript.json**\n",
    "* event (str) - record description (ie transaction, offer received, offer viewed, etc.)\n",
    "* person (str) - customer id\n",
    "* time (int) - time in hours since start of test. The data begins at time t=0\n",
    "* value - (dict of strings) - either an offer id or transaction amount depending on the record\n",
    "\n",
    "**Note:** If you are using the workspace, you will need to go to the terminal and run the command `conda update pandas` before reading in the files. This is because the version of pandas in the workspace cannot read in the transcript.json file correctly, but the newest version of pandas can. You can access the termnal from the orange icon in the top left of this notebook.  \n",
    "\n",
    "You can see how to access the terminal and how the install works using the two images below.  First you need to access the terminal:\n",
    "\n",
    "<img src=\"pic1.png\"/>\n",
    "\n",
    "Then you will want to run the above command:\n",
    "\n",
    "<img src=\"pic2.png\"/>\n",
    "\n",
    "Finally, when you enter back into the notebook (use the jupyter icon again), you should be able to run the below cell without any errors."
   ]
  },
  {
   "cell_type": "code",
   "execution_count": 1,
   "metadata": {},
   "outputs": [],
   "source": [
    "import pandas as pd\n",
    "import numpy as np\n",
    "import math\n",
    "import json\n",
    "% matplotlib inline\n",
    "from datetime import datetime\n",
    "from matplotlib import pyplot as plt\n",
    "import seaborn as sns\n",
    "\n",
    "from sklearn.model_selection import train_test_split, StratifiedKFold\n",
    "from sklearn.preprocessing import StandardScaler, MinMaxScaler\n",
    "from sklearn.model_selection import GridSearchCV\n",
    "from sklearn.linear_model import LogisticRegression\n",
    "from sklearn.ensemble import RandomForestClassifier, AdaBoostClassifier, GradientBoostingClassifier\n",
    "from sklearn.tree import DecisionTreeClassifier\n",
    "from sklearn.utils.multiclass import unique_labels\n",
    "from sklearn.metrics import f1_score, precision_score, recall_score, confusion_matrix, mean_squared_error, classification_report\n",
    "\n",
    "pd.set_option('display.max_columns', None)\n",
    "\n",
    "# read in the json files\n",
    "portfolio = pd.read_json('data/portfolio.json', orient='records', lines=True)\n",
    "profile = pd.read_json('data/profile.json', orient='records', lines=True)\n",
    "transcript = pd.read_json('data/transcript.json', orient='records', lines=True)"
   ]
  },
  {
   "cell_type": "markdown",
   "metadata": {},
   "source": [
    "# Cleaning"
   ]
  },
  {
   "cell_type": "markdown",
   "metadata": {},
   "source": [
    "1. Clean the portfolio dataset\n",
    "    - Create dummy columns for each channel\n",
    "    - Create dummy columns for each offer\n",
    "    - Remove the original channels & offer_type columns\n",
    "    - Rename the id column to offer_id in case of confusion with customer_id"
   ]
  },
  {
   "cell_type": "code",
   "execution_count": 2,
   "metadata": {},
   "outputs": [],
   "source": [
    "def clean_portfolio(portfolio):\n",
    "    \"\"\"\n",
    "    Clean portfolio dataset: \n",
    "    - create dummy columns for each channel\n",
    "    - create dummy columns for each offer type\n",
    "    - remove the original channels & offer_type columns\n",
    "    - rename the id column to offer_id in case of confusion with customer_id\n",
    "    Input:\n",
    "    - portfolio: original portfolio dataset\n",
    "    Output:\n",
    "    - portfolio_clean\n",
    "    \"\"\"\n",
    "    # create dummy column for each channel\n",
    "    channels = pd.get_dummies(portfolio.channels.apply(pd.Series).stack(),prefix=\"channel\").sum(level=0)\n",
    "    # create dummy column for each offer type\n",
    "    offer_type = pd.get_dummies(portfolio['offer_type'],prefix=\"offer_type\")\n",
    "    # combine the dummy channels and dummy offer types with the original dataset and remove the original channels & offer_type columns\n",
    "    portfolio_clean = pd.concat([portfolio, channels, offer_type], axis=1, sort=False)\n",
    "    portfolio_clean.drop(columns=['channels', 'offer_type'], inplace=True)\n",
    "    # rename the id column to offer_id\n",
    "    portfolio_clean.rename(columns={'id':'offer_id'}, inplace=True)\n",
    "    return portfolio_clean"
   ]
  },
  {
   "cell_type": "code",
   "execution_count": 3,
   "metadata": {},
   "outputs": [
    {
     "data": {
      "text/html": [
       "<div>\n",
       "<style scoped>\n",
       "    .dataframe tbody tr th:only-of-type {\n",
       "        vertical-align: middle;\n",
       "    }\n",
       "\n",
       "    .dataframe tbody tr th {\n",
       "        vertical-align: top;\n",
       "    }\n",
       "\n",
       "    .dataframe thead th {\n",
       "        text-align: right;\n",
       "    }\n",
       "</style>\n",
       "<table border=\"1\" class=\"dataframe\">\n",
       "  <thead>\n",
       "    <tr style=\"text-align: right;\">\n",
       "      <th></th>\n",
       "      <th>difficulty</th>\n",
       "      <th>duration</th>\n",
       "      <th>offer_id</th>\n",
       "      <th>reward</th>\n",
       "      <th>channel_email</th>\n",
       "      <th>channel_mobile</th>\n",
       "      <th>channel_social</th>\n",
       "      <th>channel_web</th>\n",
       "      <th>offer_type_bogo</th>\n",
       "      <th>offer_type_discount</th>\n",
       "      <th>offer_type_informational</th>\n",
       "    </tr>\n",
       "  </thead>\n",
       "  <tbody>\n",
       "    <tr>\n",
       "      <th>0</th>\n",
       "      <td>10</td>\n",
       "      <td>7</td>\n",
       "      <td>ae264e3637204a6fb9bb56bc8210ddfd</td>\n",
       "      <td>10</td>\n",
       "      <td>1</td>\n",
       "      <td>1</td>\n",
       "      <td>1</td>\n",
       "      <td>0</td>\n",
       "      <td>1</td>\n",
       "      <td>0</td>\n",
       "      <td>0</td>\n",
       "    </tr>\n",
       "    <tr>\n",
       "      <th>1</th>\n",
       "      <td>10</td>\n",
       "      <td>5</td>\n",
       "      <td>4d5c57ea9a6940dd891ad53e9dbe8da0</td>\n",
       "      <td>10</td>\n",
       "      <td>1</td>\n",
       "      <td>1</td>\n",
       "      <td>1</td>\n",
       "      <td>1</td>\n",
       "      <td>1</td>\n",
       "      <td>0</td>\n",
       "      <td>0</td>\n",
       "    </tr>\n",
       "    <tr>\n",
       "      <th>2</th>\n",
       "      <td>0</td>\n",
       "      <td>4</td>\n",
       "      <td>3f207df678b143eea3cee63160fa8bed</td>\n",
       "      <td>0</td>\n",
       "      <td>1</td>\n",
       "      <td>1</td>\n",
       "      <td>0</td>\n",
       "      <td>1</td>\n",
       "      <td>0</td>\n",
       "      <td>0</td>\n",
       "      <td>1</td>\n",
       "    </tr>\n",
       "    <tr>\n",
       "      <th>3</th>\n",
       "      <td>5</td>\n",
       "      <td>7</td>\n",
       "      <td>9b98b8c7a33c4b65b9aebfe6a799e6d9</td>\n",
       "      <td>5</td>\n",
       "      <td>1</td>\n",
       "      <td>1</td>\n",
       "      <td>0</td>\n",
       "      <td>1</td>\n",
       "      <td>1</td>\n",
       "      <td>0</td>\n",
       "      <td>0</td>\n",
       "    </tr>\n",
       "    <tr>\n",
       "      <th>4</th>\n",
       "      <td>20</td>\n",
       "      <td>10</td>\n",
       "      <td>0b1e1539f2cc45b7b9fa7c272da2e1d7</td>\n",
       "      <td>5</td>\n",
       "      <td>1</td>\n",
       "      <td>0</td>\n",
       "      <td>0</td>\n",
       "      <td>1</td>\n",
       "      <td>0</td>\n",
       "      <td>1</td>\n",
       "      <td>0</td>\n",
       "    </tr>\n",
       "  </tbody>\n",
       "</table>\n",
       "</div>"
      ],
      "text/plain": [
       "   difficulty  duration                          offer_id  reward  \\\n",
       "0          10         7  ae264e3637204a6fb9bb56bc8210ddfd      10   \n",
       "1          10         5  4d5c57ea9a6940dd891ad53e9dbe8da0      10   \n",
       "2           0         4  3f207df678b143eea3cee63160fa8bed       0   \n",
       "3           5         7  9b98b8c7a33c4b65b9aebfe6a799e6d9       5   \n",
       "4          20        10  0b1e1539f2cc45b7b9fa7c272da2e1d7       5   \n",
       "\n",
       "   channel_email  channel_mobile  channel_social  channel_web  \\\n",
       "0              1               1               1            0   \n",
       "1              1               1               1            1   \n",
       "2              1               1               0            1   \n",
       "3              1               1               0            1   \n",
       "4              1               0               0            1   \n",
       "\n",
       "   offer_type_bogo  offer_type_discount  offer_type_informational  \n",
       "0                1                    0                         0  \n",
       "1                1                    0                         0  \n",
       "2                0                    0                         1  \n",
       "3                1                    0                         0  \n",
       "4                0                    1                         0  "
      ]
     },
     "execution_count": 3,
     "metadata": {},
     "output_type": "execute_result"
    }
   ],
   "source": [
    "# save the cleaned portfolio dataset to portfolio_clean\n",
    "portfolio_clean = clean_portfolio(portfolio)\n",
    "portfolio_clean.head()"
   ]
  },
  {
   "cell_type": "markdown",
   "metadata": {},
   "source": [
    "2. Clean the profile dataset\n",
    "    - Change the format of became_member_on column to date\n",
    "    - Create a column to separate vailid and invalid age data\n",
    "    - Change the id column to customer_id in case of confusion with offer_id\n",
    "    - Create dummy columns for gender\n",
    "    - remove original gender column and became_member_on column"
   ]
  },
  {
   "cell_type": "code",
   "execution_count": 4,
   "metadata": {},
   "outputs": [],
   "source": [
    "def clean_profile(profile):\n",
    "    \"\"\"\n",
    "    Clean profile dataset: \n",
    "    - fix the format of became_member_on column\n",
    "    - remove rows with invalid age data (age = 118)\n",
    "    - change the id column to customer_id in case of confusion with offer_id\n",
    "    - create dummy columns for gender\n",
    "    - remove original gender column and became_member_on column\n",
    "    Input:\n",
    "    - profile: original profile dataset\n",
    "    Output:\n",
    "    - profile_clean\n",
    "    \"\"\"\n",
    "    profile_clean = profile.copy()\n",
    "    # fix the format of became_member_on column\n",
    "    profile_clean.became_member_on = profile_clean.became_member_on.apply(lambda x: pd.to_datetime(str(x), format='%Y%m%d'))\n",
    "    # remove rows with invalid age data (age = 118)\n",
    "    profile_clean = profile_clean[profile_clean.age != 118]\n",
    "    # Change the id column to customer_id\n",
    "    profile_clean.rename(columns={'id':'customer_id'}, inplace=True)\n",
    "    # Create dummy columns for different gender\n",
    "    gender = pd.get_dummies(profile_clean.gender, prefix=\"gender\")\n",
    "    # combine the dummy columns for gender with the dataset and remove the original gender column\n",
    "    profile_clean = pd.concat([profile_clean, gender], axis=1, sort=False)\n",
    "    # create new member_tenure column\n",
    "    profile_clean['member_tenure'] = (datetime.today().date() - profile_clean['became_member_on'].dt.date).dt.days\n",
    "    # remove original gender column and became_member_on column\n",
    "    profile_clean.drop(columns=['gender','became_member_on'], inplace=True)\n",
    "    return profile_clean"
   ]
  },
  {
   "cell_type": "code",
   "execution_count": 5,
   "metadata": {},
   "outputs": [
    {
     "data": {
      "text/html": [
       "<div>\n",
       "<style scoped>\n",
       "    .dataframe tbody tr th:only-of-type {\n",
       "        vertical-align: middle;\n",
       "    }\n",
       "\n",
       "    .dataframe tbody tr th {\n",
       "        vertical-align: top;\n",
       "    }\n",
       "\n",
       "    .dataframe thead th {\n",
       "        text-align: right;\n",
       "    }\n",
       "</style>\n",
       "<table border=\"1\" class=\"dataframe\">\n",
       "  <thead>\n",
       "    <tr style=\"text-align: right;\">\n",
       "      <th></th>\n",
       "      <th>age</th>\n",
       "      <th>customer_id</th>\n",
       "      <th>income</th>\n",
       "      <th>gender_F</th>\n",
       "      <th>gender_M</th>\n",
       "      <th>gender_O</th>\n",
       "      <th>member_tenure</th>\n",
       "    </tr>\n",
       "  </thead>\n",
       "  <tbody>\n",
       "    <tr>\n",
       "      <th>1</th>\n",
       "      <td>55</td>\n",
       "      <td>0610b486422d4921ae7d2bf64640c50b</td>\n",
       "      <td>112000.0</td>\n",
       "      <td>1</td>\n",
       "      <td>0</td>\n",
       "      <td>0</td>\n",
       "      <td>1400</td>\n",
       "    </tr>\n",
       "    <tr>\n",
       "      <th>3</th>\n",
       "      <td>75</td>\n",
       "      <td>78afa995795e4d85b5d9ceeca43f5fef</td>\n",
       "      <td>100000.0</td>\n",
       "      <td>1</td>\n",
       "      <td>0</td>\n",
       "      <td>0</td>\n",
       "      <td>1467</td>\n",
       "    </tr>\n",
       "    <tr>\n",
       "      <th>5</th>\n",
       "      <td>68</td>\n",
       "      <td>e2127556f4f64592b11af22de27a7932</td>\n",
       "      <td>70000.0</td>\n",
       "      <td>0</td>\n",
       "      <td>1</td>\n",
       "      <td>0</td>\n",
       "      <td>1115</td>\n",
       "    </tr>\n",
       "    <tr>\n",
       "      <th>8</th>\n",
       "      <td>65</td>\n",
       "      <td>389bc3fa690240e798340f5a15918d5c</td>\n",
       "      <td>53000.0</td>\n",
       "      <td>0</td>\n",
       "      <td>1</td>\n",
       "      <td>0</td>\n",
       "      <td>1191</td>\n",
       "    </tr>\n",
       "    <tr>\n",
       "      <th>12</th>\n",
       "      <td>58</td>\n",
       "      <td>2eeac8d8feae4a8cad5a6af0499a211d</td>\n",
       "      <td>51000.0</td>\n",
       "      <td>0</td>\n",
       "      <td>1</td>\n",
       "      <td>0</td>\n",
       "      <td>1281</td>\n",
       "    </tr>\n",
       "  </tbody>\n",
       "</table>\n",
       "</div>"
      ],
      "text/plain": [
       "    age                       customer_id    income  gender_F  gender_M  \\\n",
       "1    55  0610b486422d4921ae7d2bf64640c50b  112000.0         1         0   \n",
       "3    75  78afa995795e4d85b5d9ceeca43f5fef  100000.0         1         0   \n",
       "5    68  e2127556f4f64592b11af22de27a7932   70000.0         0         1   \n",
       "8    65  389bc3fa690240e798340f5a15918d5c   53000.0         0         1   \n",
       "12   58  2eeac8d8feae4a8cad5a6af0499a211d   51000.0         0         1   \n",
       "\n",
       "    gender_O  member_tenure  \n",
       "1          0           1400  \n",
       "3          0           1467  \n",
       "5          0           1115  \n",
       "8          0           1191  \n",
       "12         0           1281  "
      ]
     },
     "execution_count": 5,
     "metadata": {},
     "output_type": "execute_result"
    }
   ],
   "source": [
    "# save the cleaned profile dataset to profile_clean\n",
    "profile_clean = clean_profile(profile)\n",
    "profile_clean.head()"
   ]
  },
  {
   "cell_type": "markdown",
   "metadata": {},
   "source": [
    "3. Clean the transcript dataset\n",
    "    - replace the space in event with _ then create dummy columns for each event\n",
    "    - extract offer id from the value column\n",
    "    - drop the value column after extraction\n",
    "    - rename the person column to customer_id"
   ]
  },
  {
   "cell_type": "code",
   "execution_count": 6,
   "metadata": {},
   "outputs": [],
   "source": [
    "def clean_transcript(transcript):\n",
    "    \"\"\"\n",
    "    Clean transcript dataset:\n",
    "    - replace the space in event with _ then create dummy columns for each event\n",
    "    - extract offer id from the value column\n",
    "    - drop the value column after extraction\n",
    "    - rename the person column to customer_id\n",
    "    Input:\n",
    "    - transcript: original transcript dataset\n",
    "    Output:\n",
    "    - transcript_clean\n",
    "    \"\"\"\n",
    "    # replace the space in event with _ then create dummy columns for each event\n",
    "    transcript.event = transcript.event.str.replace(' ', '_')\n",
    "    event = pd.get_dummies(transcript.event, prefix=\"event\")\n",
    "    # combine the event dummy columns with the original transcript dataset and drop the original event column\n",
    "    transcript_clean = pd.concat([transcript, event], axis=1, sort=False)\n",
    "    transcript_clean.drop(columns='event', inplace=True)\n",
    "    # extract offer id from the value column\n",
    "    transcript_clean['offer_id'] = [[*v.values()][0]\n",
    "                                    if [*v.keys()][0] in ['offer id', 'offer_id'] \n",
    "                                    else None\n",
    "                                    for v in transcript_clean.value]\n",
    "    # extract transaction amount from the value column\n",
    "    transcript_clean['amount'] = [np.round([*v.values()][0], decimals=2)\n",
    "                                  if [*v.keys()][0] == 'amount' \n",
    "                                  else None\n",
    "                                  for v in transcript_clean.value]\n",
    "    # drop the value column after extraction\n",
    "    transcript_clean.drop(columns='value', inplace=True)\n",
    "    # rename the person column to customer_id\n",
    "    transcript_clean.rename(columns={'person':'customer_id'}, inplace=True)\n",
    "    return transcript_clean"
   ]
  },
  {
   "cell_type": "code",
   "execution_count": 7,
   "metadata": {},
   "outputs": [
    {
     "data": {
      "text/html": [
       "<div>\n",
       "<style scoped>\n",
       "    .dataframe tbody tr th:only-of-type {\n",
       "        vertical-align: middle;\n",
       "    }\n",
       "\n",
       "    .dataframe tbody tr th {\n",
       "        vertical-align: top;\n",
       "    }\n",
       "\n",
       "    .dataframe thead th {\n",
       "        text-align: right;\n",
       "    }\n",
       "</style>\n",
       "<table border=\"1\" class=\"dataframe\">\n",
       "  <thead>\n",
       "    <tr style=\"text-align: right;\">\n",
       "      <th></th>\n",
       "      <th>customer_id</th>\n",
       "      <th>time</th>\n",
       "      <th>event_offer_completed</th>\n",
       "      <th>event_offer_received</th>\n",
       "      <th>event_offer_viewed</th>\n",
       "      <th>event_transaction</th>\n",
       "      <th>offer_id</th>\n",
       "      <th>amount</th>\n",
       "    </tr>\n",
       "  </thead>\n",
       "  <tbody>\n",
       "    <tr>\n",
       "      <th>0</th>\n",
       "      <td>78afa995795e4d85b5d9ceeca43f5fef</td>\n",
       "      <td>0</td>\n",
       "      <td>0</td>\n",
       "      <td>1</td>\n",
       "      <td>0</td>\n",
       "      <td>0</td>\n",
       "      <td>9b98b8c7a33c4b65b9aebfe6a799e6d9</td>\n",
       "      <td>NaN</td>\n",
       "    </tr>\n",
       "    <tr>\n",
       "      <th>1</th>\n",
       "      <td>a03223e636434f42ac4c3df47e8bac43</td>\n",
       "      <td>0</td>\n",
       "      <td>0</td>\n",
       "      <td>1</td>\n",
       "      <td>0</td>\n",
       "      <td>0</td>\n",
       "      <td>0b1e1539f2cc45b7b9fa7c272da2e1d7</td>\n",
       "      <td>NaN</td>\n",
       "    </tr>\n",
       "    <tr>\n",
       "      <th>2</th>\n",
       "      <td>e2127556f4f64592b11af22de27a7932</td>\n",
       "      <td>0</td>\n",
       "      <td>0</td>\n",
       "      <td>1</td>\n",
       "      <td>0</td>\n",
       "      <td>0</td>\n",
       "      <td>2906b810c7d4411798c6938adc9daaa5</td>\n",
       "      <td>NaN</td>\n",
       "    </tr>\n",
       "    <tr>\n",
       "      <th>3</th>\n",
       "      <td>8ec6ce2a7e7949b1bf142def7d0e0586</td>\n",
       "      <td>0</td>\n",
       "      <td>0</td>\n",
       "      <td>1</td>\n",
       "      <td>0</td>\n",
       "      <td>0</td>\n",
       "      <td>fafdcd668e3743c1bb461111dcafc2a4</td>\n",
       "      <td>NaN</td>\n",
       "    </tr>\n",
       "    <tr>\n",
       "      <th>4</th>\n",
       "      <td>68617ca6246f4fbc85e91a2a49552598</td>\n",
       "      <td>0</td>\n",
       "      <td>0</td>\n",
       "      <td>1</td>\n",
       "      <td>0</td>\n",
       "      <td>0</td>\n",
       "      <td>4d5c57ea9a6940dd891ad53e9dbe8da0</td>\n",
       "      <td>NaN</td>\n",
       "    </tr>\n",
       "  </tbody>\n",
       "</table>\n",
       "</div>"
      ],
      "text/plain": [
       "                        customer_id  time  event_offer_completed  \\\n",
       "0  78afa995795e4d85b5d9ceeca43f5fef     0                      0   \n",
       "1  a03223e636434f42ac4c3df47e8bac43     0                      0   \n",
       "2  e2127556f4f64592b11af22de27a7932     0                      0   \n",
       "3  8ec6ce2a7e7949b1bf142def7d0e0586     0                      0   \n",
       "4  68617ca6246f4fbc85e91a2a49552598     0                      0   \n",
       "\n",
       "   event_offer_received  event_offer_viewed  event_transaction  \\\n",
       "0                     1                   0                  0   \n",
       "1                     1                   0                  0   \n",
       "2                     1                   0                  0   \n",
       "3                     1                   0                  0   \n",
       "4                     1                   0                  0   \n",
       "\n",
       "                           offer_id  amount  \n",
       "0  9b98b8c7a33c4b65b9aebfe6a799e6d9     NaN  \n",
       "1  0b1e1539f2cc45b7b9fa7c272da2e1d7     NaN  \n",
       "2  2906b810c7d4411798c6938adc9daaa5     NaN  \n",
       "3  fafdcd668e3743c1bb461111dcafc2a4     NaN  \n",
       "4  4d5c57ea9a6940dd891ad53e9dbe8da0     NaN  "
      ]
     },
     "execution_count": 7,
     "metadata": {},
     "output_type": "execute_result"
    }
   ],
   "source": [
    "# save the cleaned transcript dataset to transcript_clean\n",
    "transcript_clean = clean_transcript(transcript)\n",
    "transcript_clean.head()"
   ]
  },
  {
   "cell_type": "markdown",
   "metadata": {},
   "source": [
    "# Analysis"
   ]
  },
  {
   "cell_type": "markdown",
   "metadata": {},
   "source": [
    "## 1. How many customers received offers in this dataset? What kind of offers did they recieve?"
   ]
  },
  {
   "cell_type": "code",
   "execution_count": 8,
   "metadata": {},
   "outputs": [
    {
     "name": "stdout",
     "output_type": "stream",
     "text": [
      "16994 customers received at least 1 offer.\n"
     ]
    }
   ],
   "source": [
    "# Count how many unique customers received at least 1 offer\n",
    "customer_offer_received = transcript_clean[transcript_clean.event_offer_received == 1]['customer_id'].nunique()\n",
    "print(\"{} customers received at least 1 offer.\".format(customer_offer_received))"
   ]
  },
  {
   "cell_type": "code",
   "execution_count": 9,
   "metadata": {},
   "outputs": [],
   "source": [
    "# create a function to get a new column for offer type\n",
    "def offer_type(row):\n",
    "    if row['offer_type_bogo'] == 1:\n",
    "        return \"bogo\"\n",
    "    elif row['offer_type_discount'] == 1:\n",
    "        return \"discount\"\n",
    "    elif row['offer_type_informational'] == 1:\n",
    "        return \"informational\""
   ]
  },
  {
   "cell_type": "code",
   "execution_count": 10,
   "metadata": {},
   "outputs": [
    {
     "data": {
      "text/html": [
       "<div>\n",
       "<style scoped>\n",
       "    .dataframe tbody tr th:only-of-type {\n",
       "        vertical-align: middle;\n",
       "    }\n",
       "\n",
       "    .dataframe tbody tr th {\n",
       "        vertical-align: top;\n",
       "    }\n",
       "\n",
       "    .dataframe thead th {\n",
       "        text-align: right;\n",
       "    }\n",
       "</style>\n",
       "<table border=\"1\" class=\"dataframe\">\n",
       "  <thead>\n",
       "    <tr style=\"text-align: right;\">\n",
       "      <th></th>\n",
       "      <th>customer_id</th>\n",
       "      <th>time</th>\n",
       "      <th>event_offer_completed</th>\n",
       "      <th>event_offer_received</th>\n",
       "      <th>event_offer_viewed</th>\n",
       "      <th>event_transaction</th>\n",
       "      <th>offer_id</th>\n",
       "      <th>amount</th>\n",
       "      <th>difficulty</th>\n",
       "      <th>duration</th>\n",
       "      <th>reward</th>\n",
       "      <th>channel_email</th>\n",
       "      <th>channel_mobile</th>\n",
       "      <th>channel_social</th>\n",
       "      <th>channel_web</th>\n",
       "      <th>offer_type_bogo</th>\n",
       "      <th>offer_type_discount</th>\n",
       "      <th>offer_type_informational</th>\n",
       "      <th>offer_type</th>\n",
       "    </tr>\n",
       "  </thead>\n",
       "  <tbody>\n",
       "    <tr>\n",
       "      <th>0</th>\n",
       "      <td>78afa995795e4d85b5d9ceeca43f5fef</td>\n",
       "      <td>0</td>\n",
       "      <td>0</td>\n",
       "      <td>1</td>\n",
       "      <td>0</td>\n",
       "      <td>0</td>\n",
       "      <td>9b98b8c7a33c4b65b9aebfe6a799e6d9</td>\n",
       "      <td>NaN</td>\n",
       "      <td>5.0</td>\n",
       "      <td>7.0</td>\n",
       "      <td>5.0</td>\n",
       "      <td>1.0</td>\n",
       "      <td>1.0</td>\n",
       "      <td>0.0</td>\n",
       "      <td>1.0</td>\n",
       "      <td>1.0</td>\n",
       "      <td>0.0</td>\n",
       "      <td>0.0</td>\n",
       "      <td>bogo</td>\n",
       "    </tr>\n",
       "    <tr>\n",
       "      <th>1</th>\n",
       "      <td>a03223e636434f42ac4c3df47e8bac43</td>\n",
       "      <td>0</td>\n",
       "      <td>0</td>\n",
       "      <td>1</td>\n",
       "      <td>0</td>\n",
       "      <td>0</td>\n",
       "      <td>0b1e1539f2cc45b7b9fa7c272da2e1d7</td>\n",
       "      <td>NaN</td>\n",
       "      <td>20.0</td>\n",
       "      <td>10.0</td>\n",
       "      <td>5.0</td>\n",
       "      <td>1.0</td>\n",
       "      <td>0.0</td>\n",
       "      <td>0.0</td>\n",
       "      <td>1.0</td>\n",
       "      <td>0.0</td>\n",
       "      <td>1.0</td>\n",
       "      <td>0.0</td>\n",
       "      <td>discount</td>\n",
       "    </tr>\n",
       "    <tr>\n",
       "      <th>2</th>\n",
       "      <td>e2127556f4f64592b11af22de27a7932</td>\n",
       "      <td>0</td>\n",
       "      <td>0</td>\n",
       "      <td>1</td>\n",
       "      <td>0</td>\n",
       "      <td>0</td>\n",
       "      <td>2906b810c7d4411798c6938adc9daaa5</td>\n",
       "      <td>NaN</td>\n",
       "      <td>10.0</td>\n",
       "      <td>7.0</td>\n",
       "      <td>2.0</td>\n",
       "      <td>1.0</td>\n",
       "      <td>1.0</td>\n",
       "      <td>0.0</td>\n",
       "      <td>1.0</td>\n",
       "      <td>0.0</td>\n",
       "      <td>1.0</td>\n",
       "      <td>0.0</td>\n",
       "      <td>discount</td>\n",
       "    </tr>\n",
       "    <tr>\n",
       "      <th>3</th>\n",
       "      <td>8ec6ce2a7e7949b1bf142def7d0e0586</td>\n",
       "      <td>0</td>\n",
       "      <td>0</td>\n",
       "      <td>1</td>\n",
       "      <td>0</td>\n",
       "      <td>0</td>\n",
       "      <td>fafdcd668e3743c1bb461111dcafc2a4</td>\n",
       "      <td>NaN</td>\n",
       "      <td>10.0</td>\n",
       "      <td>10.0</td>\n",
       "      <td>2.0</td>\n",
       "      <td>1.0</td>\n",
       "      <td>1.0</td>\n",
       "      <td>1.0</td>\n",
       "      <td>1.0</td>\n",
       "      <td>0.0</td>\n",
       "      <td>1.0</td>\n",
       "      <td>0.0</td>\n",
       "      <td>discount</td>\n",
       "    </tr>\n",
       "    <tr>\n",
       "      <th>4</th>\n",
       "      <td>68617ca6246f4fbc85e91a2a49552598</td>\n",
       "      <td>0</td>\n",
       "      <td>0</td>\n",
       "      <td>1</td>\n",
       "      <td>0</td>\n",
       "      <td>0</td>\n",
       "      <td>4d5c57ea9a6940dd891ad53e9dbe8da0</td>\n",
       "      <td>NaN</td>\n",
       "      <td>10.0</td>\n",
       "      <td>5.0</td>\n",
       "      <td>10.0</td>\n",
       "      <td>1.0</td>\n",
       "      <td>1.0</td>\n",
       "      <td>1.0</td>\n",
       "      <td>1.0</td>\n",
       "      <td>1.0</td>\n",
       "      <td>0.0</td>\n",
       "      <td>0.0</td>\n",
       "      <td>bogo</td>\n",
       "    </tr>\n",
       "  </tbody>\n",
       "</table>\n",
       "</div>"
      ],
      "text/plain": [
       "                        customer_id  time  event_offer_completed  \\\n",
       "0  78afa995795e4d85b5d9ceeca43f5fef     0                      0   \n",
       "1  a03223e636434f42ac4c3df47e8bac43     0                      0   \n",
       "2  e2127556f4f64592b11af22de27a7932     0                      0   \n",
       "3  8ec6ce2a7e7949b1bf142def7d0e0586     0                      0   \n",
       "4  68617ca6246f4fbc85e91a2a49552598     0                      0   \n",
       "\n",
       "   event_offer_received  event_offer_viewed  event_transaction  \\\n",
       "0                     1                   0                  0   \n",
       "1                     1                   0                  0   \n",
       "2                     1                   0                  0   \n",
       "3                     1                   0                  0   \n",
       "4                     1                   0                  0   \n",
       "\n",
       "                           offer_id  amount  difficulty  duration  reward  \\\n",
       "0  9b98b8c7a33c4b65b9aebfe6a799e6d9     NaN         5.0       7.0     5.0   \n",
       "1  0b1e1539f2cc45b7b9fa7c272da2e1d7     NaN        20.0      10.0     5.0   \n",
       "2  2906b810c7d4411798c6938adc9daaa5     NaN        10.0       7.0     2.0   \n",
       "3  fafdcd668e3743c1bb461111dcafc2a4     NaN        10.0      10.0     2.0   \n",
       "4  4d5c57ea9a6940dd891ad53e9dbe8da0     NaN        10.0       5.0    10.0   \n",
       "\n",
       "   channel_email  channel_mobile  channel_social  channel_web  \\\n",
       "0            1.0             1.0             0.0          1.0   \n",
       "1            1.0             0.0             0.0          1.0   \n",
       "2            1.0             1.0             0.0          1.0   \n",
       "3            1.0             1.0             1.0          1.0   \n",
       "4            1.0             1.0             1.0          1.0   \n",
       "\n",
       "   offer_type_bogo  offer_type_discount  offer_type_informational offer_type  \n",
       "0              1.0                  0.0                       0.0       bogo  \n",
       "1              0.0                  1.0                       0.0   discount  \n",
       "2              0.0                  1.0                       0.0   discount  \n",
       "3              0.0                  1.0                       0.0   discount  \n",
       "4              1.0                  0.0                       0.0       bogo  "
      ]
     },
     "execution_count": 10,
     "metadata": {},
     "output_type": "execute_result"
    }
   ],
   "source": [
    "# merge transcript_clean & portfolio_clean dataset to get offer_type data\n",
    "transcript_df = pd.merge(transcript_clean, portfolio_clean, on='offer_id', how='left')\n",
    "transcript_df['offer_type'] = transcript_df.apply(lambda row: offer_type(row), axis=1)\n",
    "transcript_df.head()"
   ]
  },
  {
   "cell_type": "code",
   "execution_count": 11,
   "metadata": {},
   "outputs": [
    {
     "data": {
      "text/html": [
       "<div>\n",
       "<style scoped>\n",
       "    .dataframe tbody tr th:only-of-type {\n",
       "        vertical-align: middle;\n",
       "    }\n",
       "\n",
       "    .dataframe tbody tr th {\n",
       "        vertical-align: top;\n",
       "    }\n",
       "\n",
       "    .dataframe thead th {\n",
       "        text-align: right;\n",
       "    }\n",
       "</style>\n",
       "<table border=\"1\" class=\"dataframe\">\n",
       "  <thead>\n",
       "    <tr style=\"text-align: right;\">\n",
       "      <th></th>\n",
       "      <th>offer_type</th>\n",
       "      <th>offer_id</th>\n",
       "      <th>count</th>\n",
       "    </tr>\n",
       "  </thead>\n",
       "  <tbody>\n",
       "    <tr>\n",
       "      <th>0</th>\n",
       "      <td>bogo</td>\n",
       "      <td>4d5c57ea9a6940dd891ad53e9dbe8da0</td>\n",
       "      <td>6330</td>\n",
       "    </tr>\n",
       "    <tr>\n",
       "      <th>1</th>\n",
       "      <td>bogo</td>\n",
       "      <td>9b98b8c7a33c4b65b9aebfe6a799e6d9</td>\n",
       "      <td>6355</td>\n",
       "    </tr>\n",
       "    <tr>\n",
       "      <th>2</th>\n",
       "      <td>bogo</td>\n",
       "      <td>ae264e3637204a6fb9bb56bc8210ddfd</td>\n",
       "      <td>6374</td>\n",
       "    </tr>\n",
       "    <tr>\n",
       "      <th>3</th>\n",
       "      <td>bogo</td>\n",
       "      <td>f19421c1d4aa40978ebb69ca19b0e20d</td>\n",
       "      <td>6262</td>\n",
       "    </tr>\n",
       "    <tr>\n",
       "      <th>4</th>\n",
       "      <td>discount</td>\n",
       "      <td>0b1e1539f2cc45b7b9fa7c272da2e1d7</td>\n",
       "      <td>6374</td>\n",
       "    </tr>\n",
       "    <tr>\n",
       "      <th>5</th>\n",
       "      <td>discount</td>\n",
       "      <td>2298d6c36e964ae4a3e7e9706d1fb8c2</td>\n",
       "      <td>6325</td>\n",
       "    </tr>\n",
       "    <tr>\n",
       "      <th>6</th>\n",
       "      <td>discount</td>\n",
       "      <td>2906b810c7d4411798c6938adc9daaa5</td>\n",
       "      <td>6285</td>\n",
       "    </tr>\n",
       "    <tr>\n",
       "      <th>7</th>\n",
       "      <td>discount</td>\n",
       "      <td>fafdcd668e3743c1bb461111dcafc2a4</td>\n",
       "      <td>6332</td>\n",
       "    </tr>\n",
       "    <tr>\n",
       "      <th>8</th>\n",
       "      <td>informational</td>\n",
       "      <td>3f207df678b143eea3cee63160fa8bed</td>\n",
       "      <td>6331</td>\n",
       "    </tr>\n",
       "    <tr>\n",
       "      <th>9</th>\n",
       "      <td>informational</td>\n",
       "      <td>5a8bc65990b245e5a138643cd4eb9837</td>\n",
       "      <td>6320</td>\n",
       "    </tr>\n",
       "  </tbody>\n",
       "</table>\n",
       "</div>"
      ],
      "text/plain": [
       "      offer_type                          offer_id  count\n",
       "0           bogo  4d5c57ea9a6940dd891ad53e9dbe8da0   6330\n",
       "1           bogo  9b98b8c7a33c4b65b9aebfe6a799e6d9   6355\n",
       "2           bogo  ae264e3637204a6fb9bb56bc8210ddfd   6374\n",
       "3           bogo  f19421c1d4aa40978ebb69ca19b0e20d   6262\n",
       "4       discount  0b1e1539f2cc45b7b9fa7c272da2e1d7   6374\n",
       "5       discount  2298d6c36e964ae4a3e7e9706d1fb8c2   6325\n",
       "6       discount  2906b810c7d4411798c6938adc9daaa5   6285\n",
       "7       discount  fafdcd668e3743c1bb461111dcafc2a4   6332\n",
       "8  informational  3f207df678b143eea3cee63160fa8bed   6331\n",
       "9  informational  5a8bc65990b245e5a138643cd4eb9837   6320"
      ]
     },
     "execution_count": 11,
     "metadata": {},
     "output_type": "execute_result"
    }
   ],
   "source": [
    "# Get the breakdown of offer type\n",
    "offer_breakdown = transcript_df[transcript_df.event_offer_received == 1].groupby(['offer_type','offer_id'])['customer_id'].nunique()\n",
    "offer_breakdown = offer_breakdown.reset_index()\n",
    "offer_breakdown.rename(columns={'customer_id':'count'}, inplace=True)\n",
    "offer_breakdown"
   ]
  },
  {
   "cell_type": "code",
   "execution_count": 12,
   "metadata": {},
   "outputs": [
    {
     "data": {
      "text/plain": [
       "Text(0.5,0.98,'Breakdown of different offers customers received')"
      ]
     },
     "execution_count": 12,
     "metadata": {},
     "output_type": "execute_result"
    },
    {
     "data": {
      "image/png": "[encoded data removed]",
      "text/plain": [
       "<matplotlib.figure.Figure at 0x7f26217ae160>"
      ]
     },
     "metadata": {
      "needs_background": "light"
     },
     "output_type": "display_data"
    }
   ],
   "source": [
    "# visualize the breakdown of different offers\n",
    "fig, (ax1, ax2, ax3)  = plt.subplots(3, 1, gridspec_kw={'height_ratios': [2, 2, 1]}, figsize=(10,6))\n",
    "sns.barplot(y = 'offer_id', x='count', data=offer_breakdown[offer_breakdown.offer_type == 'bogo'], color=\"b\", ax = ax1)\n",
    "sns.barplot(y = 'offer_id', x='count', data=offer_breakdown[offer_breakdown.offer_type == 'discount'], color=\"orange\", ax = ax2)\n",
    "sns.barplot(y = 'offer_id', x='count', data=offer_breakdown[offer_breakdown.offer_type == 'informational'], color=\"red\", ax = ax3)\n",
    "ax1.title.set_text('BOGO')\n",
    "ax2.title.set_text('Discount')\n",
    "ax3.title.set_text('Informational')\n",
    "ax1.axes.get_xaxis().set_visible(False)\n",
    "ax2.axes.get_xaxis().set_visible(False)\n",
    "\n",
    "fig.text(-0.2, 0.5, 'Offer ID', va='center', rotation='vertical')\n",
    "fig.suptitle('Breakdown of different offers customers received')"
   ]
  },
  {
   "cell_type": "code",
   "execution_count": 13,
   "metadata": {},
   "outputs": [
    {
     "data": {
      "text/plain": [
       "Text(0.5,1,'Distribution of unique offers customers receive')"
      ]
     },
     "execution_count": 13,
     "metadata": {},
     "output_type": "execute_result"
    },
    {
     "data": {
      "image/png": "[encoded data removed]",
      "text/plain": [
       "<matplotlib.figure.Figure at 0x7f26217a6f28>"
      ]
     },
     "metadata": {
      "needs_background": "light"
     },
     "output_type": "display_data"
    }
   ],
   "source": [
    "offer_received_per_customer = transcript_df[transcript_df.event_offer_received == 1].groupby(\"customer_id\")['offer_id'].nunique().reset_index()\n",
    "offer_received_per_customer.rename(columns={'offer_id':'offer_received'}, inplace=True)\n",
    "customer_offer_count = offer_received_per_customer.groupby('offer_received')['customer_id'].nunique().reset_index()\n",
    "customer_offer_count.rename(columns={'customer_id':'customer_count'}, inplace=True)\n",
    "ax = sns.barplot(x = 'offer_received', y = 'customer_count', data=customer_offer_count)\n",
    "ax.set_title('Distribution of unique offers customers receive')"
   ]
  },
  {
   "cell_type": "markdown",
   "metadata": {},
   "source": [
    "Based on the analysis, we are able to get some general idea of the offers customers received:\n",
    "1. 16,994 unique customers received at least 1 offer.\n",
    "2. Customers received 10 different types of offers, 4 are BOGO offers, 4 are discount offers, 2 are informational offers.\n",
    "3. The unique customer size that received each offers are similar, around 6,500.\n",
    "4. The majority of the customers received 3-5 diffent kinds of offers, while there are some customers received only 1-2 kinds of offers or 6 kinds of offers."
   ]
  },
  {
   "cell_type": "markdown",
   "metadata": {},
   "source": [
    "## 2. Customer Analysis: What do the customers look like (age, gender, income, etc.)? \n",
    "### Income Dsitribution"
   ]
  },
  {
   "cell_type": "code",
   "execution_count": 14,
   "metadata": {},
   "outputs": [
    {
     "data": {
      "text/plain": [
       "count     14825.000000\n",
       "mean      65404.991568\n",
       "std       21598.299410\n",
       "min       30000.000000\n",
       "25%       49000.000000\n",
       "50%       64000.000000\n",
       "75%       80000.000000\n",
       "max      120000.000000\n",
       "Name: income, dtype: float64"
      ]
     },
     "execution_count": 14,
     "metadata": {},
     "output_type": "execute_result"
    }
   ],
   "source": [
    "# get descrptive data of the income destribution\n",
    "profile_clean.describe()['income']"
   ]
  },
  {
   "cell_type": "code",
   "execution_count": 15,
   "metadata": {},
   "outputs": [
    {
     "data": {
      "text/plain": [
       "<matplotlib.axes._subplots.AxesSubplot at 0x7f262178ca20>"
      ]
     },
     "execution_count": 15,
     "metadata": {},
     "output_type": "execute_result"
    },
    {
     "data": {
      "image/png": "[encoded data removed]",
      "text/plain": [
       "<matplotlib.figure.Figure at 0x7f262179dcf8>"
      ]
     },
     "metadata": {
      "needs_background": "light"
     },
     "output_type": "display_data"
    }
   ],
   "source": [
    "# draw the distribution of the customers income\n",
    "sns.distplot(profile_clean[~profile_clean['income'].isnull()]['income'], bins=50)"
   ]
  },
  {
   "cell_type": "markdown",
   "metadata": {},
   "source": [
    "- The average income if the customers is \\\\$65,404 , while the median is \\\\$64,000\n",
    "- The distribution of income is slightly right skewed"
   ]
  },
  {
   "cell_type": "markdown",
   "metadata": {},
   "source": [
    "### Age and Gender Dsitribution"
   ]
  },
  {
   "cell_type": "code",
   "execution_count": 16,
   "metadata": {},
   "outputs": [],
   "source": [
    "# copy the profile_clean dataset to do analysis\n",
    "profile_df = profile_clean.copy()"
   ]
  },
  {
   "cell_type": "code",
   "execution_count": 17,
   "metadata": {},
   "outputs": [
    {
     "data": {
      "text/plain": [
       "count    14825.000000\n",
       "mean        54.393524\n",
       "std         17.383705\n",
       "min         18.000000\n",
       "25%         42.000000\n",
       "50%         55.000000\n",
       "75%         66.000000\n",
       "max        101.000000\n",
       "Name: age, dtype: float64"
      ]
     },
     "execution_count": 17,
     "metadata": {},
     "output_type": "execute_result"
    }
   ],
   "source": [
    "# get descrptive data of the age destribution after removing the invalid ages\n",
    "profile_df.describe()['age']"
   ]
  },
  {
   "cell_type": "code",
   "execution_count": 18,
   "metadata": {},
   "outputs": [
    {
     "data": {
      "text/plain": [
       "<matplotlib.axes._subplots.AxesSubplot at 0x7f26216e3208>"
      ]
     },
     "execution_count": 18,
     "metadata": {},
     "output_type": "execute_result"
    },
    {
     "data": {
      "image/png": "[encoded data removed]",
      "text/plain": [
       "<matplotlib.figure.Figure at 0x7f2621758748>"
      ]
     },
     "metadata": {
      "needs_background": "light"
     },
     "output_type": "display_data"
    }
   ],
   "source": [
    "# remove the invalid data and redraw the histogram\n",
    "sns.distplot(profile_df['age'])"
   ]
  },
  {
   "cell_type": "code",
   "execution_count": 19,
   "metadata": {},
   "outputs": [],
   "source": [
    "# create gender function to create a new gender column\n",
    "def gender(row):\n",
    "    if row['gender_F'] == 1:\n",
    "        return \"Female\"\n",
    "    elif row['gender_M'] == 1:\n",
    "        return \"Male\"\n",
    "\n",
    "# create age_group function to put customer with differnt age into age groups\n",
    "def age_group(row):\n",
    "    if row['age'] <= 24:\n",
    "        return \"18-24\"\n",
    "    elif row['age'] <= 34:\n",
    "        return \"25-34\"\n",
    "    elif row['age'] <= 44:\n",
    "        return \"35-44\"\n",
    "    elif row['age'] <= 54:\n",
    "        return \"45-54\"\n",
    "    elif row['age'] <= 64:\n",
    "        return \"55-64\"\n",
    "    elif row['age'] <= 74:\n",
    "        return \"65-74\"\n",
    "    elif row['age'] > 74:\n",
    "        return \"75+\""
   ]
  },
  {
   "cell_type": "code",
   "execution_count": 20,
   "metadata": {},
   "outputs": [],
   "source": [
    "# create new columns using the function\n",
    "profile_df['gender'] = profile_df.apply(lambda row: gender(row), axis=1)\n",
    "profile_df['age_group'] = profile_df.apply(lambda row: age_group(row), axis=1)"
   ]
  },
  {
   "cell_type": "code",
   "execution_count": 21,
   "metadata": {},
   "outputs": [],
   "source": [
    "# remove rows with invalid age and gender\n",
    "profile_df = profile_df[~(profile_df['gender'].isnull())]"
   ]
  },
  {
   "cell_type": "code",
   "execution_count": 22,
   "metadata": {},
   "outputs": [
    {
     "data": {
      "text/plain": [
       "<matplotlib.legend.Legend at 0x7f262175ccf8>"
      ]
     },
     "execution_count": 22,
     "metadata": {},
     "output_type": "execute_result"
    },
    {
     "data": {
      "image/png": "[encoded data removed]",
      "text/plain": [
       "<matplotlib.figure.Figure at 0x7f26216b6e48>"
      ]
     },
     "metadata": {
      "needs_background": "light"
     },
     "output_type": "display_data"
    }
   ],
   "source": [
    "# visualize the distribution of gender and age\n",
    "fig, ax  = plt.subplots(1, 1, figsize=(14,6))\n",
    "ax = sns.countplot(x='age_group', data = profile_df, order=['18-24','25-34','35-44','45-54','55-64','65-74','75+'], hue='gender')\n",
    "plt.title('Gender distribution in age groups')\n",
    "plt.ylabel('Count')\n",
    "plt.xlabel('Age Group')\n",
    "plt.legend(title='Gender')"
   ]
  },
  {
   "cell_type": "markdown",
   "metadata": {},
   "source": [
    "- The distribution of age is close to normal with the mean of 54.39 and median of 55.\n",
    "- The percentage of male customers is higher than female in all age groups except the 75+ group.\n",
    "- The biggest age group is 55-65, the second biggest group is 45-54. The smallest age group is 18-24."
   ]
  },
  {
   "cell_type": "markdown",
   "metadata": {},
   "source": [
    "## 3. Offer Analysis: How effective are the offers? What kind of offer are more effective to drive order?"
   ]
  },
  {
   "cell_type": "code",
   "execution_count": 23,
   "metadata": {},
   "outputs": [
    {
     "data": {
      "text/html": [
       "<div>\n",
       "<style scoped>\n",
       "    .dataframe tbody tr th:only-of-type {\n",
       "        vertical-align: middle;\n",
       "    }\n",
       "\n",
       "    .dataframe tbody tr th {\n",
       "        vertical-align: top;\n",
       "    }\n",
       "\n",
       "    .dataframe thead th {\n",
       "        text-align: right;\n",
       "    }\n",
       "</style>\n",
       "<table border=\"1\" class=\"dataframe\">\n",
       "  <thead>\n",
       "    <tr style=\"text-align: right;\">\n",
       "      <th></th>\n",
       "      <th>customer_id</th>\n",
       "      <th>event_offer_completed</th>\n",
       "      <th>event_offer_received</th>\n",
       "      <th>event_offer_viewed</th>\n",
       "      <th>offer_id</th>\n",
       "      <th>offer_type</th>\n",
       "    </tr>\n",
       "  </thead>\n",
       "  <tbody>\n",
       "    <tr>\n",
       "      <th>0</th>\n",
       "      <td>78afa995795e4d85b5d9ceeca43f5fef</td>\n",
       "      <td>0</td>\n",
       "      <td>1</td>\n",
       "      <td>0</td>\n",
       "      <td>9b98b8c7a33c4b65b9aebfe6a799e6d9</td>\n",
       "      <td>bogo</td>\n",
       "    </tr>\n",
       "    <tr>\n",
       "      <th>1</th>\n",
       "      <td>a03223e636434f42ac4c3df47e8bac43</td>\n",
       "      <td>0</td>\n",
       "      <td>1</td>\n",
       "      <td>0</td>\n",
       "      <td>0b1e1539f2cc45b7b9fa7c272da2e1d7</td>\n",
       "      <td>discount</td>\n",
       "    </tr>\n",
       "    <tr>\n",
       "      <th>2</th>\n",
       "      <td>e2127556f4f64592b11af22de27a7932</td>\n",
       "      <td>0</td>\n",
       "      <td>1</td>\n",
       "      <td>0</td>\n",
       "      <td>2906b810c7d4411798c6938adc9daaa5</td>\n",
       "      <td>discount</td>\n",
       "    </tr>\n",
       "    <tr>\n",
       "      <th>3</th>\n",
       "      <td>8ec6ce2a7e7949b1bf142def7d0e0586</td>\n",
       "      <td>0</td>\n",
       "      <td>1</td>\n",
       "      <td>0</td>\n",
       "      <td>fafdcd668e3743c1bb461111dcafc2a4</td>\n",
       "      <td>discount</td>\n",
       "    </tr>\n",
       "    <tr>\n",
       "      <th>4</th>\n",
       "      <td>68617ca6246f4fbc85e91a2a49552598</td>\n",
       "      <td>0</td>\n",
       "      <td>1</td>\n",
       "      <td>0</td>\n",
       "      <td>4d5c57ea9a6940dd891ad53e9dbe8da0</td>\n",
       "      <td>bogo</td>\n",
       "    </tr>\n",
       "  </tbody>\n",
       "</table>\n",
       "</div>"
      ],
      "text/plain": [
       "                        customer_id  event_offer_completed  \\\n",
       "0  78afa995795e4d85b5d9ceeca43f5fef                      0   \n",
       "1  a03223e636434f42ac4c3df47e8bac43                      0   \n",
       "2  e2127556f4f64592b11af22de27a7932                      0   \n",
       "3  8ec6ce2a7e7949b1bf142def7d0e0586                      0   \n",
       "4  68617ca6246f4fbc85e91a2a49552598                      0   \n",
       "\n",
       "   event_offer_received  event_offer_viewed                          offer_id  \\\n",
       "0                     1                   0  9b98b8c7a33c4b65b9aebfe6a799e6d9   \n",
       "1                     1                   0  0b1e1539f2cc45b7b9fa7c272da2e1d7   \n",
       "2                     1                   0  2906b810c7d4411798c6938adc9daaa5   \n",
       "3                     1                   0  fafdcd668e3743c1bb461111dcafc2a4   \n",
       "4                     1                   0  4d5c57ea9a6940dd891ad53e9dbe8da0   \n",
       "\n",
       "  offer_type  \n",
       "0       bogo  \n",
       "1   discount  \n",
       "2   discount  \n",
       "3   discount  \n",
       "4       bogo  "
      ]
     },
     "execution_count": 23,
     "metadata": {},
     "output_type": "execute_result"
    }
   ],
   "source": [
    "# Clean the transcript_df to remove the rows with no offer_id\n",
    "offer_df = transcript_df[~transcript_df['offer_id'].isnull()][['customer_id','event_offer_completed','event_offer_received','event_offer_viewed','offer_id','offer_type']]\n",
    "offer_df.head()\n"
   ]
  },
  {
   "cell_type": "code",
   "execution_count": 24,
   "metadata": {},
   "outputs": [
    {
     "data": {
      "text/html": [
       "<div>\n",
       "<style scoped>\n",
       "    .dataframe tbody tr th:only-of-type {\n",
       "        vertical-align: middle;\n",
       "    }\n",
       "\n",
       "    .dataframe tbody tr th {\n",
       "        vertical-align: top;\n",
       "    }\n",
       "\n",
       "    .dataframe thead th {\n",
       "        text-align: right;\n",
       "    }\n",
       "</style>\n",
       "<table border=\"1\" class=\"dataframe\">\n",
       "  <thead>\n",
       "    <tr style=\"text-align: right;\">\n",
       "      <th></th>\n",
       "      <th>offer_type</th>\n",
       "      <th>offer_id</th>\n",
       "      <th>event_offer_received</th>\n",
       "      <th>event_offer_viewed</th>\n",
       "      <th>event_offer_completed</th>\n",
       "    </tr>\n",
       "  </thead>\n",
       "  <tbody>\n",
       "    <tr>\n",
       "      <th>0</th>\n",
       "      <td>bogo</td>\n",
       "      <td>4d5c57ea9a6940dd891ad53e9dbe8da0</td>\n",
       "      <td>7593.0</td>\n",
       "      <td>7298.0</td>\n",
       "      <td>3331.0</td>\n",
       "    </tr>\n",
       "    <tr>\n",
       "      <th>1</th>\n",
       "      <td>bogo</td>\n",
       "      <td>9b98b8c7a33c4b65b9aebfe6a799e6d9</td>\n",
       "      <td>7677.0</td>\n",
       "      <td>4171.0</td>\n",
       "      <td>4354.0</td>\n",
       "    </tr>\n",
       "    <tr>\n",
       "      <th>2</th>\n",
       "      <td>bogo</td>\n",
       "      <td>ae264e3637204a6fb9bb56bc8210ddfd</td>\n",
       "      <td>7658.0</td>\n",
       "      <td>6716.0</td>\n",
       "      <td>3688.0</td>\n",
       "    </tr>\n",
       "    <tr>\n",
       "      <th>3</th>\n",
       "      <td>bogo</td>\n",
       "      <td>f19421c1d4aa40978ebb69ca19b0e20d</td>\n",
       "      <td>7571.0</td>\n",
       "      <td>7264.0</td>\n",
       "      <td>4296.0</td>\n",
       "    </tr>\n",
       "    <tr>\n",
       "      <th>4</th>\n",
       "      <td>discount</td>\n",
       "      <td>0b1e1539f2cc45b7b9fa7c272da2e1d7</td>\n",
       "      <td>7668.0</td>\n",
       "      <td>2663.0</td>\n",
       "      <td>3420.0</td>\n",
       "    </tr>\n",
       "    <tr>\n",
       "      <th>5</th>\n",
       "      <td>discount</td>\n",
       "      <td>2298d6c36e964ae4a3e7e9706d1fb8c2</td>\n",
       "      <td>7646.0</td>\n",
       "      <td>7337.0</td>\n",
       "      <td>5156.0</td>\n",
       "    </tr>\n",
       "    <tr>\n",
       "      <th>6</th>\n",
       "      <td>discount</td>\n",
       "      <td>2906b810c7d4411798c6938adc9daaa5</td>\n",
       "      <td>7632.0</td>\n",
       "      <td>4118.0</td>\n",
       "      <td>4017.0</td>\n",
       "    </tr>\n",
       "    <tr>\n",
       "      <th>7</th>\n",
       "      <td>discount</td>\n",
       "      <td>fafdcd668e3743c1bb461111dcafc2a4</td>\n",
       "      <td>7597.0</td>\n",
       "      <td>7327.0</td>\n",
       "      <td>5317.0</td>\n",
       "    </tr>\n",
       "    <tr>\n",
       "      <th>8</th>\n",
       "      <td>informational</td>\n",
       "      <td>3f207df678b143eea3cee63160fa8bed</td>\n",
       "      <td>7617.0</td>\n",
       "      <td>4144.0</td>\n",
       "      <td>0.0</td>\n",
       "    </tr>\n",
       "    <tr>\n",
       "      <th>9</th>\n",
       "      <td>informational</td>\n",
       "      <td>5a8bc65990b245e5a138643cd4eb9837</td>\n",
       "      <td>7618.0</td>\n",
       "      <td>6687.0</td>\n",
       "      <td>0.0</td>\n",
       "    </tr>\n",
       "  </tbody>\n",
       "</table>\n",
       "</div>"
      ],
      "text/plain": [
       "      offer_type                          offer_id  event_offer_received  \\\n",
       "0           bogo  4d5c57ea9a6940dd891ad53e9dbe8da0                7593.0   \n",
       "1           bogo  9b98b8c7a33c4b65b9aebfe6a799e6d9                7677.0   \n",
       "2           bogo  ae264e3637204a6fb9bb56bc8210ddfd                7658.0   \n",
       "3           bogo  f19421c1d4aa40978ebb69ca19b0e20d                7571.0   \n",
       "4       discount  0b1e1539f2cc45b7b9fa7c272da2e1d7                7668.0   \n",
       "5       discount  2298d6c36e964ae4a3e7e9706d1fb8c2                7646.0   \n",
       "6       discount  2906b810c7d4411798c6938adc9daaa5                7632.0   \n",
       "7       discount  fafdcd668e3743c1bb461111dcafc2a4                7597.0   \n",
       "8  informational  3f207df678b143eea3cee63160fa8bed                7617.0   \n",
       "9  informational  5a8bc65990b245e5a138643cd4eb9837                7618.0   \n",
       "\n",
       "   event_offer_viewed  event_offer_completed  \n",
       "0              7298.0                 3331.0  \n",
       "1              4171.0                 4354.0  \n",
       "2              6716.0                 3688.0  \n",
       "3              7264.0                 4296.0  \n",
       "4              2663.0                 3420.0  \n",
       "5              7337.0                 5156.0  \n",
       "6              4118.0                 4017.0  \n",
       "7              7327.0                 5317.0  \n",
       "8              4144.0                    0.0  \n",
       "9              6687.0                    0.0  "
      ]
     },
     "execution_count": 24,
     "metadata": {},
     "output_type": "execute_result"
    }
   ],
   "source": [
    "offer_agg_df = offer_df.groupby(['offer_type','offer_id']).sum().reset_index()\n",
    "offer_agg_df = offer_agg_df[['offer_type','offer_id','event_offer_received','event_offer_viewed','event_offer_completed']]\n",
    "offer_agg_df"
   ]
  },
  {
   "cell_type": "code",
   "execution_count": 25,
   "metadata": {},
   "outputs": [
    {
     "data": {
      "text/plain": [
       "Text(0.5,0.98,'Breakdown of the effectiveness of each offer')"
      ]
     },
     "execution_count": 25,
     "metadata": {},
     "output_type": "execute_result"
    },
    {
     "data": {
      "image/png": "[encoded data removed]",
      "text/plain": [
       "<matplotlib.figure.Figure at 0x7f262165a588>"
      ]
     },
     "metadata": {
      "needs_background": "light"
     },
     "output_type": "display_data"
    }
   ],
   "source": [
    "# Visualize the effitiveness of different offers\n",
    "fig, (ax1, ax2, ax3)  = plt.subplots(3, 1, gridspec_kw={'height_ratios': [2, 2, 1]}, figsize=(10,6))\n",
    "sns.barplot(y='offer_id',x='event_offer_received', data=offer_agg_df[offer_agg_df.offer_type == 'bogo'], color='grey', ax=ax1)\n",
    "sns.barplot(y='offer_id',x='event_offer_viewed', data=offer_agg_df[offer_agg_df.offer_type == 'bogo'], color='deepskyblue',ax=ax1)\n",
    "sns.barplot(y='offer_id',x='event_offer_completed', data=offer_agg_df[offer_agg_df.offer_type == 'bogo'], color='royalblue',ax=ax1)\n",
    "sns.barplot(y='offer_id',x='event_offer_received', data=offer_agg_df[offer_agg_df.offer_type == 'discount'], color='grey', ax=ax2)\n",
    "sns.barplot(y='offer_id',x='event_offer_viewed', data=offer_agg_df[offer_agg_df.offer_type == 'discount'], color='deepskyblue',ax=ax2)\n",
    "sns.barplot(y='offer_id',x='event_offer_completed', data=offer_agg_df[offer_agg_df.offer_type == 'discount'], color='royalblue',ax=ax2)\n",
    "sns.barplot(y='offer_id',x='event_offer_received', data=offer_agg_df[offer_agg_df.offer_type == 'informational'], color='grey', ax=ax3)\n",
    "sns.barplot(y='offer_id',x='event_offer_viewed', data=offer_agg_df[offer_agg_df.offer_type == 'informational'], color='deepskyblue',ax=ax3)\n",
    "sns.barplot(y='offer_id',x='event_offer_completed', data=offer_agg_df[offer_agg_df.offer_type == 'informational'], color='royalblue',ax=ax3)\n",
    "ax1.title.set_text('BOGO')\n",
    "ax2.title.set_text('Discount')\n",
    "ax3.title.set_text('Informational')\n",
    "ax1.axes.get_xaxis().set_visible(False)\n",
    "ax2.axes.get_xaxis().set_visible(False)\n",
    "ax3.set_xlabel(\"Count\")\n",
    "\n",
    "fig.text(-0.2, 0.5, 'Offer ID', va='center', rotation='vertical')\n",
    "fig.suptitle('Breakdown of the effectiveness of each offer')\n"
   ]
  },
  {
   "cell_type": "markdown",
   "metadata": {},
   "source": [
    "By looking at the breakdown of different kinds of offers, we can find:\n",
    "- Informational offer is different from other types of offers, it doesn't drive orders directly\n",
    "- On average discount offers have higher convertion rate (offer_completed/offer_received) than bogo offers.\n",
    "- There're one bogo offer and one discount offer both have higher offer used than offer views, which might worth deep investigation."
   ]
  },
  {
   "cell_type": "markdown",
   "metadata": {},
   "source": [
    "# Merge the three cleaned datasets and prepare data for model training"
   ]
  },
  {
   "cell_type": "code",
   "execution_count": 26,
   "metadata": {},
   "outputs": [],
   "source": [
    "def merge_dataset(portfolio_clean, profile_clean, transcript_clean):\n",
    "    \"\"\"\n",
    "    Merge and process the cleaned dataset before model training:\n",
    "    - create offer_usuage dataset for customers who've received the offer and the time when they received the first offer with the same offer_id\n",
    "    - create transaction dataset for customer_id, time, and amount\n",
    "    - merge offer_usuage and transaction to get the transaction amount *before* the offer sent\n",
    "    - merge the datasets\n",
    "    - drop customer_id and offer_id column\n",
    "    Input:\n",
    "    - portfolio_clean: cleaned portfolio dataset\n",
    "    - profile_clean: cleaned profile dataset\n",
    "    - transcript_clean: cleaned transcript dataset\n",
    "    Output:\n",
    "    - merge_df\n",
    "    \"\"\"\n",
    "    # create offer_usuage dataset for customers who've received the offer and the time when they received the first offer with the same offer_id\n",
    "    offer_usuage = transcript_clean.groupby(['customer_id','offer_id']).agg({'time': np.min,\n",
    "                                                          'event_offer_received': np.max,\n",
    "                                                          'event_offer_viewed': np.max,\n",
    "                                                          'event_offer_completed': np.max\n",
    "                                                          }).reset_index()\n",
    "    # create transaction dataset for customer_id, time, and amount\n",
    "    transaction = transcript_clean[transcript_clean['event_transaction'] == 1][['customer_id', 'time', 'amount']]\n",
    "    # merge offer_usuage and transaction to get the transaction amount *before* the offer sent\n",
    "    merge_df = pd.merge(offer_usuage, transaction, on='customer_id', how='left')\n",
    "    merge_df = merge_df[merge_df['time_x'] > merge_df['time_y']].groupby(['customer_id','offer_id']).agg({'event_offer_viewed': np.max,\n",
    "                                                                                          'event_offer_completed':np.max,\n",
    "                                                                                          'amount': np.sum\n",
    "                                                                                          }).reset_index()\n",
    "    # merge the merged dataset with cleaned profile dataset\n",
    "    merge_df = pd.merge(merge_df, profile_clean, on='customer_id', how=\"inner\")\n",
    "    # merge the merged dataset with cleaned porfolio dataset\n",
    "    merge_df = pd.merge(merge_df,  portfolio_clean, on='offer_id', how='inner')\n",
    "    merge_df.drop(columns=['customer_id', 'offer_id'], inplace=True)\n",
    "    return merge_df"
   ]
  },
  {
   "cell_type": "code",
   "execution_count": 27,
   "metadata": {},
   "outputs": [
    {
     "data": {
      "text/html": [
       "<div>\n",
       "<style scoped>\n",
       "    .dataframe tbody tr th:only-of-type {\n",
       "        vertical-align: middle;\n",
       "    }\n",
       "\n",
       "    .dataframe tbody tr th {\n",
       "        vertical-align: top;\n",
       "    }\n",
       "\n",
       "    .dataframe thead th {\n",
       "        text-align: right;\n",
       "    }\n",
       "</style>\n",
       "<table border=\"1\" class=\"dataframe\">\n",
       "  <thead>\n",
       "    <tr style=\"text-align: right;\">\n",
       "      <th></th>\n",
       "      <th>event_offer_viewed</th>\n",
       "      <th>event_offer_completed</th>\n",
       "      <th>amount</th>\n",
       "      <th>age</th>\n",
       "      <th>income</th>\n",
       "      <th>gender_F</th>\n",
       "      <th>gender_M</th>\n",
       "      <th>gender_O</th>\n",
       "      <th>member_tenure</th>\n",
       "      <th>difficulty</th>\n",
       "      <th>duration</th>\n",
       "      <th>reward</th>\n",
       "      <th>channel_email</th>\n",
       "      <th>channel_mobile</th>\n",
       "      <th>channel_social</th>\n",
       "      <th>channel_web</th>\n",
       "      <th>offer_type_bogo</th>\n",
       "      <th>offer_type_discount</th>\n",
       "      <th>offer_type_informational</th>\n",
       "    </tr>\n",
       "  </thead>\n",
       "  <tbody>\n",
       "    <tr>\n",
       "      <th>0</th>\n",
       "      <td>0</td>\n",
       "      <td>1</td>\n",
       "      <td>58.40</td>\n",
       "      <td>33</td>\n",
       "      <td>72000.0</td>\n",
       "      <td>0</td>\n",
       "      <td>1</td>\n",
       "      <td>0</td>\n",
       "      <td>1485</td>\n",
       "      <td>10</td>\n",
       "      <td>7</td>\n",
       "      <td>2</td>\n",
       "      <td>1</td>\n",
       "      <td>1</td>\n",
       "      <td>0</td>\n",
       "      <td>1</td>\n",
       "      <td>0</td>\n",
       "      <td>1</td>\n",
       "      <td>0</td>\n",
       "    </tr>\n",
       "    <tr>\n",
       "      <th>1</th>\n",
       "      <td>0</td>\n",
       "      <td>0</td>\n",
       "      <td>60.67</td>\n",
       "      <td>19</td>\n",
       "      <td>65000.0</td>\n",
       "      <td>1</td>\n",
       "      <td>0</td>\n",
       "      <td>0</td>\n",
       "      <td>1740</td>\n",
       "      <td>10</td>\n",
       "      <td>7</td>\n",
       "      <td>2</td>\n",
       "      <td>1</td>\n",
       "      <td>1</td>\n",
       "      <td>0</td>\n",
       "      <td>1</td>\n",
       "      <td>0</td>\n",
       "      <td>1</td>\n",
       "      <td>0</td>\n",
       "    </tr>\n",
       "    <tr>\n",
       "      <th>2</th>\n",
       "      <td>0</td>\n",
       "      <td>0</td>\n",
       "      <td>9.71</td>\n",
       "      <td>56</td>\n",
       "      <td>47000.0</td>\n",
       "      <td>0</td>\n",
       "      <td>1</td>\n",
       "      <td>0</td>\n",
       "      <td>1253</td>\n",
       "      <td>10</td>\n",
       "      <td>7</td>\n",
       "      <td>2</td>\n",
       "      <td>1</td>\n",
       "      <td>1</td>\n",
       "      <td>0</td>\n",
       "      <td>1</td>\n",
       "      <td>0</td>\n",
       "      <td>1</td>\n",
       "      <td>0</td>\n",
       "    </tr>\n",
       "    <tr>\n",
       "      <th>3</th>\n",
       "      <td>1</td>\n",
       "      <td>1</td>\n",
       "      <td>307.30</td>\n",
       "      <td>58</td>\n",
       "      <td>119000.0</td>\n",
       "      <td>1</td>\n",
       "      <td>0</td>\n",
       "      <td>0</td>\n",
       "      <td>1255</td>\n",
       "      <td>10</td>\n",
       "      <td>7</td>\n",
       "      <td>2</td>\n",
       "      <td>1</td>\n",
       "      <td>1</td>\n",
       "      <td>0</td>\n",
       "      <td>1</td>\n",
       "      <td>0</td>\n",
       "      <td>1</td>\n",
       "      <td>0</td>\n",
       "    </tr>\n",
       "    <tr>\n",
       "      <th>4</th>\n",
       "      <td>0</td>\n",
       "      <td>0</td>\n",
       "      <td>5.95</td>\n",
       "      <td>24</td>\n",
       "      <td>42000.0</td>\n",
       "      <td>0</td>\n",
       "      <td>1</td>\n",
       "      <td>0</td>\n",
       "      <td>1343</td>\n",
       "      <td>10</td>\n",
       "      <td>7</td>\n",
       "      <td>2</td>\n",
       "      <td>1</td>\n",
       "      <td>1</td>\n",
       "      <td>0</td>\n",
       "      <td>1</td>\n",
       "      <td>0</td>\n",
       "      <td>1</td>\n",
       "      <td>0</td>\n",
       "    </tr>\n",
       "  </tbody>\n",
       "</table>\n",
       "</div>"
      ],
      "text/plain": [
       "   event_offer_viewed  event_offer_completed  amount  age    income  gender_F  \\\n",
       "0                   0                      1   58.40   33   72000.0         0   \n",
       "1                   0                      0   60.67   19   65000.0         1   \n",
       "2                   0                      0    9.71   56   47000.0         0   \n",
       "3                   1                      1  307.30   58  119000.0         1   \n",
       "4                   0                      0    5.95   24   42000.0         0   \n",
       "\n",
       "   gender_M  gender_O  member_tenure  difficulty  duration  reward  \\\n",
       "0         1         0           1485          10         7       2   \n",
       "1         0         0           1740          10         7       2   \n",
       "2         1         0           1253          10         7       2   \n",
       "3         0         0           1255          10         7       2   \n",
       "4         1         0           1343          10         7       2   \n",
       "\n",
       "   channel_email  channel_mobile  channel_social  channel_web  \\\n",
       "0              1               1               0            1   \n",
       "1              1               1               0            1   \n",
       "2              1               1               0            1   \n",
       "3              1               1               0            1   \n",
       "4              1               1               0            1   \n",
       "\n",
       "   offer_type_bogo  offer_type_discount  offer_type_informational  \n",
       "0                0                    1                         0  \n",
       "1                0                    1                         0  \n",
       "2                0                    1                         0  \n",
       "3                0                    1                         0  \n",
       "4                0                    1                         0  "
      ]
     },
     "execution_count": 27,
     "metadata": {},
     "output_type": "execute_result"
    }
   ],
   "source": [
    "merge_df = merge_dataset(portfolio_clean, profile_clean, transcript_clean)\n",
    "\n",
    "merge_df.head()"
   ]
  },
  {
   "cell_type": "code",
   "execution_count": 28,
   "metadata": {},
   "outputs": [
    {
     "data": {
      "text/plain": [
       "event_offer_viewed          0\n",
       "event_offer_completed       0\n",
       "amount                      0\n",
       "age                         0\n",
       "income                      0\n",
       "gender_F                    0\n",
       "gender_M                    0\n",
       "gender_O                    0\n",
       "member_tenure               0\n",
       "difficulty                  0\n",
       "duration                    0\n",
       "reward                      0\n",
       "channel_email               0\n",
       "channel_mobile              0\n",
       "channel_social              0\n",
       "channel_web                 0\n",
       "offer_type_bogo             0\n",
       "offer_type_discount         0\n",
       "offer_type_informational    0\n",
       "dtype: int64"
      ]
     },
     "execution_count": 28,
     "metadata": {},
     "output_type": "execute_result"
    }
   ],
   "source": [
    "# make sure there is no missing data\n",
    "merge_df.isnull().sum()"
   ]
  },
  {
   "cell_type": "markdown",
   "metadata": {},
   "source": [
    "# Build machine learning models to predict the offer usage\n",
    "## 1. Define features & target and create train and test datasets\n",
    "First, we defined the features and target"
   ]
  },
  {
   "cell_type": "code",
   "execution_count": 29,
   "metadata": {},
   "outputs": [],
   "source": [
    "# define features and target\n",
    "X = merge_df.drop(columns=['event_offer_completed'])\n",
    "y = merge_df['event_offer_completed']"
   ]
  },
  {
   "cell_type": "markdown",
   "metadata": {},
   "source": [
    "We then define the function that can split the features and target into training and testing datasets ans scale the featrues using StandardScaler()"
   ]
  },
  {
   "cell_type": "code",
   "execution_count": 30,
   "metadata": {},
   "outputs": [],
   "source": [
    "def model_pipeline(features, target):\n",
    "    \"\"\"\n",
    "    Split the features and target into training and testing datasets ans scale the featrues using StandardScaler()\n",
    "    Input:\n",
    "    - features\n",
    "    - target\n",
    "    Output:\n",
    "    - X_train: training features\n",
    "    - X_test: testing features\n",
    "    - y_train: training target\n",
    "    - y_test: testing target  \n",
    "    \"\"\"\n",
    "    X_train, X_test, y_train, y_test = train_test_split(features,target, test_size=0.20, random_state=42)\n",
    "    scaler=StandardScaler()\n",
    "    X_train=scaler.fit_transform(X_train)\n",
    "    X_test=scaler.transform(X_test)\n",
    "    return X_train,X_test,y_train, y_test"
   ]
  },
  {
   "cell_type": "code",
   "execution_count": 31,
   "metadata": {},
   "outputs": [],
   "source": [
    "#use the function to do train/test split\n",
    "X_train, X_test, y_train, y_test = model_pipeline(X,y)"
   ]
  },
  {
   "cell_type": "markdown",
   "metadata": {},
   "source": [
    "## 2. Train Classifier"
   ]
  },
  {
   "cell_type": "code",
   "execution_count": 32,
   "metadata": {},
   "outputs": [],
   "source": [
    "def fit_clf(model, param_grid, X_train, y_train): \n",
    "    \"\"\"\n",
    "    Fits a classifier to training data set using grid search and calculates f1_score\n",
    "    Input:\n",
    "    - model: classifier to fit\n",
    "    - param_grid (dict): classifier parameters\n",
    "    - X_tarin: training featrues\n",
    "    - y_train: training target\n",
    "    Output:\n",
    "    - best_score: best score of grid search\n",
    "    - best_est: best estimator of grid search\n",
    "    \"\"\"\n",
    "    \n",
    "    grid = GridSearchCV(estimator=model, param_grid=param_grid, scoring='f1', cv=5, verbose=0)\n",
    "    print(\"Training {} :\".format(model.__class__.__name__))\n",
    "    grid.fit(X_train, y_train)\n",
    "    \n",
    "    print(model.__class__.__name__)\n",
    "    print(\"Best f1_score : {}\".format(round(grid.best_score_,4)))\n",
    "    print(\"*\"*40)\n",
    "    \n",
    "    best_score = grid.best_score_\n",
    "    best_est = grid.best_estimator_\n",
    "    return best_score, best_est"
   ]
  },
  {
   "cell_type": "code",
   "execution_count": 33,
   "metadata": {},
   "outputs": [],
   "source": [
    "#initialize classifiers\n",
    "lr = LogisticRegression(random_state = 42) \n",
    "rf = RandomForestClassifier(random_state = 42) \n",
    "ab = AdaBoostClassifier(random_state = 42) \n",
    "gb = GradientBoostingClassifier(random_state = 42) "
   ]
  },
  {
   "cell_type": "code",
   "execution_count": 34,
   "metadata": {},
   "outputs": [
    {
     "name": "stdout",
     "output_type": "stream",
     "text": [
      "Training LogisticRegression :\n",
      "LogisticRegression\n",
      "Best f1_score : 0.8296\n",
      "****************************************\n",
      "Training RandomForestClassifier :\n",
      "RandomForestClassifier\n",
      "Best f1_score : 0.8181\n",
      "****************************************\n",
      "Training AdaBoostClassifier :\n",
      "AdaBoostClassifier\n",
      "Best f1_score : 0.8383\n",
      "****************************************\n",
      "Training GradientBoostingClassifier :\n",
      "GradientBoostingClassifier\n",
      "Best f1_score : 0.8477\n",
      "****************************************\n"
     ]
    }
   ],
   "source": [
    "# find the best classifier for training data\n",
    "clf_names = []\n",
    "clf_scores = []\n",
    "clf_best_ests = []\n",
    "clf_time_taken = []\n",
    "clf_dict = {}\n",
    "\n",
    "for classifier in [lr, rf, ab, gb]:\n",
    "    best_score, best_est = fit_clf(classifier, {}, X_train, y_train)\n",
    "    clf_names.append(classifier.__class__.__name__)\n",
    "    clf_scores.append(best_score)\n",
    "    clf_best_ests.append(best_est)"
   ]
  },
  {
   "cell_type": "code",
   "execution_count": 36,
   "metadata": {},
   "outputs": [
    {
     "data": {
      "text/html": [
       "<div>\n",
       "<style scoped>\n",
       "    .dataframe tbody tr th:only-of-type {\n",
       "        vertical-align: middle;\n",
       "    }\n",
       "\n",
       "    .dataframe tbody tr th {\n",
       "        vertical-align: top;\n",
       "    }\n",
       "\n",
       "    .dataframe thead th {\n",
       "        text-align: right;\n",
       "    }\n",
       "</style>\n",
       "<table border=\"1\" class=\"dataframe\">\n",
       "  <thead>\n",
       "    <tr style=\"text-align: right;\">\n",
       "      <th></th>\n",
       "      <th>best_f1_score</th>\n",
       "      <th>best_est</th>\n",
       "    </tr>\n",
       "  </thead>\n",
       "  <tbody>\n",
       "    <tr>\n",
       "      <th>LogisticRegression</th>\n",
       "      <td>0.829561</td>\n",
       "      <td>LogisticRegression(C=1.0, class_weight=None, d...</td>\n",
       "    </tr>\n",
       "    <tr>\n",
       "      <th>RandomForestClassifier</th>\n",
       "      <td>0.818087</td>\n",
       "      <td>(DecisionTreeClassifier(class_weight=None, cri...</td>\n",
       "    </tr>\n",
       "    <tr>\n",
       "      <th>AdaBoostClassifier</th>\n",
       "      <td>0.838320</td>\n",
       "      <td>(DecisionTreeClassifier(class_weight=None, cri...</td>\n",
       "    </tr>\n",
       "    <tr>\n",
       "      <th>GradientBoostingClassifier</th>\n",
       "      <td>0.847726</td>\n",
       "      <td>([DecisionTreeRegressor(criterion='friedman_ms...</td>\n",
       "    </tr>\n",
       "  </tbody>\n",
       "</table>\n",
       "</div>"
      ],
      "text/plain": [
       "                            best_f1_score  \\\n",
       "LogisticRegression               0.829561   \n",
       "RandomForestClassifier           0.818087   \n",
       "AdaBoostClassifier               0.838320   \n",
       "GradientBoostingClassifier       0.847726   \n",
       "\n",
       "                                                                     best_est  \n",
       "LogisticRegression          LogisticRegression(C=1.0, class_weight=None, d...  \n",
       "RandomForestClassifier      (DecisionTreeClassifier(class_weight=None, cri...  \n",
       "AdaBoostClassifier          (DecisionTreeClassifier(class_weight=None, cri...  \n",
       "GradientBoostingClassifier  ([DecisionTreeRegressor(criterion='friedman_ms...  "
      ]
     },
     "execution_count": 36,
     "metadata": {},
     "output_type": "execute_result"
    }
   ],
   "source": [
    "clf_dict['best_f1_score'] = clf_scores\n",
    "clf_dict['best_est'] = clf_best_ests\n",
    "clf_df = pd.DataFrame(clf_dict, index=clf_names)\n",
    "clf_df"
   ]
  },
  {
   "cell_type": "markdown",
   "metadata": {},
   "source": [
    "Based on the f1 scores of the four classifiers, GradientBoostingClassifier is the best classifier algorithm"
   ]
  },
  {
   "cell_type": "code",
   "execution_count": 37,
   "metadata": {},
   "outputs": [
    {
     "data": {
      "text/plain": [
       "GradientBoostingClassifier(criterion='friedman_mse', init=None,\n",
       "              learning_rate=0.1, loss='deviance', max_depth=3,\n",
       "              max_features=None, max_leaf_nodes=None,\n",
       "              min_impurity_decrease=0.0, min_impurity_split=None,\n",
       "              min_samples_leaf=1, min_samples_split=2,\n",
       "              min_weight_fraction_leaf=0.0, n_estimators=100,\n",
       "              presort='auto', random_state=42, subsample=1.0, verbose=0,\n",
       "              warm_start=False)"
      ]
     },
     "execution_count": 37,
     "metadata": {},
     "output_type": "execute_result"
    }
   ],
   "source": [
    "clf_df.loc['GradientBoostingClassifier', 'best_est']"
   ]
  },
  {
   "cell_type": "markdown",
   "metadata": {},
   "source": [
    "## 3. Model Refinement"
   ]
  },
  {
   "cell_type": "code",
   "execution_count": 38,
   "metadata": {},
   "outputs": [
    {
     "name": "stdout",
     "output_type": "stream",
     "text": [
      "Training GradientBoostingClassifier :\n",
      "GradientBoostingClassifier\n",
      "Best f1_score : 0.848\n",
      "****************************************\n"
     ]
    },
    {
     "data": {
      "text/plain": [
       "GradientBoostingClassifier(criterion='friedman_mse', init=None,\n",
       "              learning_rate=0.15, loss='deviance', max_depth=3,\n",
       "              max_features=None, max_leaf_nodes=None,\n",
       "              min_impurity_decrease=0.0, min_impurity_split=None,\n",
       "              min_samples_leaf=4, min_samples_split=2,\n",
       "              min_weight_fraction_leaf=0.0, n_estimators=100,\n",
       "              presort='auto', random_state=42, subsample=1.0, verbose=0,\n",
       "              warm_start=False)"
      ]
     },
     "execution_count": 38,
     "metadata": {},
     "output_type": "execute_result"
    }
   ],
   "source": [
    "# tuning GradientBoostingClassifier\n",
    "param_grid = {\n",
    "              'n_estimators': [10, 50, 80, 100],\n",
    "              'max_depth': [3],\n",
    "              'min_samples_split': [2, 5, 10],\n",
    "              'min_samples_leaf': [1, 2, 4],\n",
    "              'learning_rate': [0.15,0.1,0.05,0.01,0.005,0.001]}\n",
    "gb = GradientBoostingClassifier(random_state = 42) \n",
    "gb_best_score, gb_best_est = fit_clf(gb, param_grid, X_train, y_train)\n",
    "gb_best_est"
   ]
  },
  {
   "cell_type": "markdown",
   "metadata": {},
   "source": [
    "## 4. Feature importance"
   ]
  },
  {
   "cell_type": "code",
   "execution_count": 39,
   "metadata": {},
   "outputs": [
    {
     "data": {
      "text/html": [
       "<div>\n",
       "<style scoped>\n",
       "    .dataframe tbody tr th:only-of-type {\n",
       "        vertical-align: middle;\n",
       "    }\n",
       "\n",
       "    .dataframe tbody tr th {\n",
       "        vertical-align: top;\n",
       "    }\n",
       "\n",
       "    .dataframe thead th {\n",
       "        text-align: right;\n",
       "    }\n",
       "</style>\n",
       "<table border=\"1\" class=\"dataframe\">\n",
       "  <thead>\n",
       "    <tr style=\"text-align: right;\">\n",
       "      <th></th>\n",
       "      <th>feature</th>\n",
       "      <th>feature_importance</th>\n",
       "    </tr>\n",
       "  </thead>\n",
       "  <tbody>\n",
       "    <tr>\n",
       "      <th>0</th>\n",
       "      <td>amount</td>\n",
       "      <td>0.219144</td>\n",
       "    </tr>\n",
       "    <tr>\n",
       "      <th>1</th>\n",
       "      <td>member_tenure</td>\n",
       "      <td>0.207783</td>\n",
       "    </tr>\n",
       "    <tr>\n",
       "      <th>2</th>\n",
       "      <td>income</td>\n",
       "      <td>0.162723</td>\n",
       "    </tr>\n",
       "    <tr>\n",
       "      <th>3</th>\n",
       "      <td>reward</td>\n",
       "      <td>0.093946</td>\n",
       "    </tr>\n",
       "    <tr>\n",
       "      <th>4</th>\n",
       "      <td>duration</td>\n",
       "      <td>0.071114</td>\n",
       "    </tr>\n",
       "    <tr>\n",
       "      <th>5</th>\n",
       "      <td>difficulty</td>\n",
       "      <td>0.059166</td>\n",
       "    </tr>\n",
       "    <tr>\n",
       "      <th>6</th>\n",
       "      <td>event_offer_viewed</td>\n",
       "      <td>0.042738</td>\n",
       "    </tr>\n",
       "    <tr>\n",
       "      <th>7</th>\n",
       "      <td>age</td>\n",
       "      <td>0.037921</td>\n",
       "    </tr>\n",
       "    <tr>\n",
       "      <th>8</th>\n",
       "      <td>offer_type_informational</td>\n",
       "      <td>0.032069</td>\n",
       "    </tr>\n",
       "    <tr>\n",
       "      <th>9</th>\n",
       "      <td>gender_M</td>\n",
       "      <td>0.019964</td>\n",
       "    </tr>\n",
       "    <tr>\n",
       "      <th>10</th>\n",
       "      <td>offer_type_discount</td>\n",
       "      <td>0.015072</td>\n",
       "    </tr>\n",
       "    <tr>\n",
       "      <th>11</th>\n",
       "      <td>channel_social</td>\n",
       "      <td>0.011008</td>\n",
       "    </tr>\n",
       "    <tr>\n",
       "      <th>12</th>\n",
       "      <td>channel_web</td>\n",
       "      <td>0.010625</td>\n",
       "    </tr>\n",
       "    <tr>\n",
       "      <th>13</th>\n",
       "      <td>offer_type_bogo</td>\n",
       "      <td>0.007308</td>\n",
       "    </tr>\n",
       "    <tr>\n",
       "      <th>14</th>\n",
       "      <td>channel_mobile</td>\n",
       "      <td>0.005920</td>\n",
       "    </tr>\n",
       "    <tr>\n",
       "      <th>15</th>\n",
       "      <td>gender_O</td>\n",
       "      <td>0.001891</td>\n",
       "    </tr>\n",
       "    <tr>\n",
       "      <th>16</th>\n",
       "      <td>gender_F</td>\n",
       "      <td>0.001610</td>\n",
       "    </tr>\n",
       "    <tr>\n",
       "      <th>17</th>\n",
       "      <td>channel_email</td>\n",
       "      <td>0.000000</td>\n",
       "    </tr>\n",
       "  </tbody>\n",
       "</table>\n",
       "</div>"
      ],
      "text/plain": [
       "                     feature  feature_importance\n",
       "0                     amount            0.219144\n",
       "1              member_tenure            0.207783\n",
       "2                     income            0.162723\n",
       "3                     reward            0.093946\n",
       "4                   duration            0.071114\n",
       "5                 difficulty            0.059166\n",
       "6         event_offer_viewed            0.042738\n",
       "7                        age            0.037921\n",
       "8   offer_type_informational            0.032069\n",
       "9                   gender_M            0.019964\n",
       "10       offer_type_discount            0.015072\n",
       "11            channel_social            0.011008\n",
       "12               channel_web            0.010625\n",
       "13           offer_type_bogo            0.007308\n",
       "14            channel_mobile            0.005920\n",
       "15                  gender_O            0.001891\n",
       "16                  gender_F            0.001610\n",
       "17             channel_email            0.000000"
      ]
     },
     "execution_count": 39,
     "metadata": {},
     "output_type": "execute_result"
    }
   ],
   "source": [
    "importance_df  = pd.DataFrame(gb_best_est.feature_importances_, index=X.columns.tolist(),columns=['feature_importance']).reset_index()\n",
    "importance_df.rename(columns={'index': 'feature'}, inplace=True)\n",
    "importance_df = importance_df.sort_values(by=['feature_importance'], ascending=False).reset_index(drop=True)\n",
    "importance_df "
   ]
  },
  {
   "cell_type": "code",
   "execution_count": 40,
   "metadata": {},
   "outputs": [
    {
     "data": {
      "image/png": "[encoded data removed]",
      "text/plain": [
       "<matplotlib.figure.Figure at 0x7f2621486898>"
      ]
     },
     "metadata": {
      "needs_background": "light"
     },
     "output_type": "display_data"
    }
   ],
   "source": [
    "# visualize the top 10 important features\n",
    "fig, ax = plt.subplots(figsize=(10, 10))\n",
    "sns.barplot(x=importance_df.loc[0:10,'feature_importance'], y=importance_df.loc[0:10,'feature'], data=importance_df)\n",
    "plt.xlabel('Percentage')\n",
    "plt.ylabel('Feature')\n",
    "plt.title('Top 10 important features')\n",
    "plt.show()"
   ]
  },
  {
   "cell_type": "markdown",
   "metadata": {},
   "source": [
    "From the data and the visualization we can see what are the most important features that impact sucess of the coupon:\n",
    "-  Amount spent before receiving the coupon is the most imprtant one.\n",
    "- member tenure, income, rewards level all plays are also very important.\n",
    "- demographics factors of the customers (like gender, age, income) can impact the success of coupons too."
   ]
  },
  {
   "cell_type": "markdown",
   "metadata": {},
   "source": [
    "## 5. Predict test tata and draw confusion matrix"
   ]
  },
  {
   "cell_type": "code",
   "execution_count": 41,
   "metadata": {},
   "outputs": [
    {
     "data": {
      "text/plain": [
       "array([0, 0, 1, ..., 1, 0, 1], dtype=uint8)"
      ]
     },
     "execution_count": 41,
     "metadata": {},
     "output_type": "execute_result"
    }
   ],
   "source": [
    "# use the model to predict test data\n",
    "predictions = gb_best_est.predict(X_test)\n",
    "predictions"
   ]
  },
  {
   "cell_type": "code",
   "execution_count": 42,
   "metadata": {},
   "outputs": [
    {
     "data": {
      "text/plain": [
       "array([[2745,  840],\n",
       "       [ 413, 3625]])"
      ]
     },
     "execution_count": 42,
     "metadata": {},
     "output_type": "execute_result"
    }
   ],
   "source": [
    "confusion_matrix(y_test.squeeze().values, predictions)"
   ]
  },
  {
   "cell_type": "code",
   "execution_count": 43,
   "metadata": {},
   "outputs": [],
   "source": [
    "def draw_confusion_matrix(y_true, y_pred, classes, normalize=False, title=\"Confusion Matrix\", cmap = plt.cm.Greys):\n",
    "    \"\"\"\n",
    "    print and draw the confusion matrix.\n",
    "    Input:\n",
    "    - y_true:\n",
    "    - y_pred: \n",
    "    - classes:\n",
    "    - normalize: default set to False, but could be changed to True to get normalized confusion matrix\n",
    "    - title: title of the plot, default set to \"Confusion Matrix\", but could be changed to other values \n",
    "    - cmap: color map\n",
    "    Output:\n",
    "    - ax: object of the confusion matrix plot\n",
    "    \"\"\"\n",
    "    # compute confusion matrix\n",
    "    conf_matrix = confusion_matrix(y_true, y_pred)\n",
    "    # get labels that in the data\n",
    "    classes = classes[unique_labels(y_true, y_pred)]\n",
    "    # print confusion matrix\n",
    "    if normalize:\n",
    "        conf_matrix = conf_matrix.astype('float') / conf_matrix.sum(axis=1)[:, np.newaxis]\n",
    "        print(\"Normalized confusion matrix\")\n",
    "    else:\n",
    "        print('Confusion matrix')\n",
    "    print(conf_matrix)\n",
    "    # create plot for confusion matrix\n",
    "    fig, ax = plt.subplots()\n",
    "    im = ax.imshow(conf_matrix, interpolation='nearest', cmap=cmap)\n",
    "    ax.figure.colorbar(im, ax=ax)\n",
    "    ax.set(xticks=np.arange(conf_matrix.shape[1]),\n",
    "           yticks=np.arange(conf_matrix.shape[0]),\n",
    "           xticklabels=classes, yticklabels=classes,\n",
    "           title=title,\n",
    "           ylabel='True label',\n",
    "           xlabel='Predicted label')\n",
    "\n",
    "    # rotate the tick labels and set their alignment.\n",
    "    plt.setp(ax.get_xticklabels(), rotation=0, ha=\"right\",rotation_mode=\"anchor\")\n",
    "    # loop over data dimensions and create text annotations.\n",
    "    fmt = '.2f' if normalize else 'd'\n",
    "    thresh = conf_matrix.max() / 2.\n",
    "    for i in range(conf_matrix.shape[0]):\n",
    "        for j in range(conf_matrix.shape[1]):\n",
    "            ax.text(j, i, format(conf_matrix[i, j], fmt),\n",
    "                    ha=\"center\", va=\"center\",\n",
    "                    color=\"white\" if conf_matrix[i, j] > thresh else \"black\")\n",
    "    fig.tight_layout()\n",
    "    return ax"
   ]
  },
  {
   "cell_type": "code",
   "execution_count": 44,
   "metadata": {},
   "outputs": [
    {
     "name": "stdout",
     "output_type": "stream",
     "text": [
      "Confusion matrix\n",
      "[[2745  840]\n",
      " [ 413 3625]]\n"
     ]
    },
    {
     "data": {
      "text/plain": [
       "<matplotlib.axes._subplots.AxesSubplot at 0x7f2621486c18>"
      ]
     },
     "execution_count": 44,
     "metadata": {},
     "output_type": "execute_result"
    },
    {
     "data": {
      "image/png": "[encoded data removed]",
      "text/plain": [
       "<matplotlib.figure.Figure at 0x7f262164ad68>"
      ]
     },
     "metadata": {
      "needs_background": "light"
     },
     "output_type": "display_data"
    }
   ],
   "source": [
    "# draw unnormalized confusion matrix\n",
    "np.set_printoptions(precision=2)\n",
    "class_names = np.array([0, 1])\n",
    "draw_confusion_matrix(y_test.squeeze().values, predictions, classes=class_names,title='Unnormalized confusion matrix')"
   ]
  },
  {
   "cell_type": "code",
   "execution_count": 45,
   "metadata": {},
   "outputs": [
    {
     "name": "stdout",
     "output_type": "stream",
     "text": [
      "Normalized confusion matrix\n",
      "[[ 0.77  0.23]\n",
      " [ 0.1   0.9 ]]\n"
     ]
    },
    {
     "data": {
      "text/plain": [
       "<matplotlib.axes._subplots.AxesSubplot at 0x7f262141e390>"
      ]
     },
     "execution_count": 45,
     "metadata": {},
     "output_type": "execute_result"
    },
    {
     "data": {
      "image/png": "[encoded data removed]",
      "text/plain": [
       "<matplotlib.figure.Figure at 0x7f26215ff6a0>"
      ]
     },
     "metadata": {
      "needs_background": "light"
     },
     "output_type": "display_data"
    }
   ],
   "source": [
    "# draw normalized confusion matrix\n",
    "draw_confusion_matrix(y_test.squeeze().values, predictions, classes=class_names, normalize=True,title='Confusion matrix')"
   ]
  },
  {
   "cell_type": "markdown",
   "metadata": {},
   "source": [
    "The accuracy of the model is 0.836, precision is 0.812, and recall is 0.898. The model is relatively good since it have lower chance of misclassifying customers who use the offer."
   ]
  },
  {
   "cell_type": "markdown",
   "metadata": {},
   "source": [
    "# Conclusion\n",
    "In this project, we used the three datasets provided trying to build a machine learning model to predict customers who use the offer. The featrues we used include demographics data like income, gender, age, meta data of the offers like rewards, defficult, customer membership and transaction data like membership tenure, amount spent before recieiving the offer, etc. We clean up the data sets first. After exploratory data analysis, we combined the three cleaned datasets into one, split it into training and testing sets. We finally decided to use GradientBoostingClassifier model since it has higher f1 socre. The final model we got has 0.836 accuracy, precision is 0.812, and recall is 0.898."
   ]
  },
  {
   "cell_type": "markdown",
   "metadata": {},
   "source": [
    "# Improvements\n",
    "1. In many cases, data itself is more important than tuning the model. In this case, if we have more data on customers, we are likely to train a better model. For example, one the the most important featrues in the model is amount customers spent before receiving the offer during the test time period. If we can get more historical transcation data, we might be able to build a better model.\n",
    "2. While offers can drive more sales, they could also result in lower margin, in this project, we are predicing if customers activate the offer. Another possible model we could build is predicting the amount customers will spend when using the offer. If we can build a model like this, we could send offers to customers who are likely to spend more and have higher margins when activating the offer.\n",
    "3. Some customers will spend either they have offers or not, while some others will less likely to spend if they don't have any other offers. Instead of sending offers to every customers who are likely to spend, we can create different segments and target customers who are less likely to spend when they don't have offers."
   ]
  }
 ],
 "metadata": {
  "kernelspec": {
   "display_name": "Python 3",
   "language": "python",
   "name": "python3"
  },
  "language_info": {
   "codemirror_mode": {
    "name": "ipython",
    "version": 3
   },
   "file_extension": ".py",
   "mimetype": "text/x-python",
   "name": "python",
   "nbconvert_exporter": "python",
   "pygments_lexer": "ipython3",
   "version": "3.6.3"
  }
 },
 "nbformat": 4,
 "nbformat_minor": 2
}
